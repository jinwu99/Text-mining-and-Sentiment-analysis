{
  "nbformat": 4,
  "nbformat_minor": 0,
  "metadata": {
    "colab": {
      "provenance": [],
      "authorship_tag": "ABX9TyNtGYxhD0OCacOSS7ysLQYT",
      "include_colab_link": true
    },
    "kernelspec": {
      "name": "python3",
      "display_name": "Python 3"
    },
    "language_info": {
      "name": "python"
    }
  },
  "cells": [
    {
      "cell_type": "markdown",
      "metadata": {
        "id": "view-in-github",
        "colab_type": "text"
      },
      "source": [
        "<a href=\"https://colab.research.google.com/github/jinwu99/Text-mining-and-Sentiment-analysis/blob/main/Crawling_from_Youtube.ipynb\" target=\"_parent\"><img src=\"https://colab.research.google.com/assets/colab-badge.svg\" alt=\"Open In Colab\"/></a>"
      ]
    },
    {
      "cell_type": "code",
      "execution_count": 1,
      "metadata": {
        "id": "e2gFAgdFoKIj"
      },
      "outputs": [],
      "source": [
        "import pandas as pd\n",
        "import googleapiclient.discovery\n",
        "\n",
        "# API key\n",
        "API_KEY = ''\n",
        "\n",
        "# YouTube Data API client\n",
        "youtube = googleapiclient.discovery.build('youtube', 'v3', developerKey=API_KEY)"
      ]
    },
    {
      "cell_type": "code",
      "source": [
        "# 각 영상의 댓글 크롤링\n",
        "# series : 시리즈물인 경우 넘버링도 함께 기록\n",
        "def get_comments_exclude_host(video_id, channel_host_name, series):\n",
        "    author_comments = []\n",
        "    nextPageToken = None\n",
        "\n",
        "    while True:\n",
        "        response = youtube.commentThreads().list(\n",
        "            part='snippet',\n",
        "            videoId=video_id,\n",
        "            textFormat='plainText',\n",
        "            maxResults=100,\n",
        "            pageToken=nextPageToken\n",
        "        ).execute()\n",
        "\n",
        "        for item in response['items']:\n",
        "            comment_author = item['snippet']['topLevelComment']['snippet']['authorDisplayName']\n",
        "            comment_text = item['snippet']['topLevelComment']['snippet']['textDisplay']\n",
        "\n",
        "            # 채널주인장의 댓글은 제외\n",
        "            if comment_author != channel_host_name:\n",
        "                author_comments.append([series,comment_author,comment_text])\n",
        "\n",
        "            # 대댓글들이 있는 경우도 함꼐 저장하기위해\n",
        "            top_level_comment_id = item['snippet']['topLevelComment']['id']\n",
        "            replies_response = youtube.comments().list(\n",
        "                part='snippet',\n",
        "                parentId=top_level_comment_id,\n",
        "                maxResults=100,\n",
        "            ).execute()\n",
        "\n",
        "            for reply_item in replies_response['items']:\n",
        "                reply_author = reply_item['snippet']['authorDisplayName']\n",
        "                reply_text = reply_item['snippet']['textDisplay']\n",
        "\n",
        "                # 대댓글도 채널주인장의 댓글은 제외\n",
        "                if reply_author != channel_host_name:\n",
        "                    author_comments.append([series,reply_author, reply_text])\n",
        "\n",
        "        nextPageToken = response.get('nextPageToken')\n",
        "\n",
        "        if not nextPageToken:\n",
        "            break\n",
        "\n",
        "    return author_comments"
      ],
      "metadata": {
        "id": "Hub_G9JHoTSP"
      },
      "execution_count": 2,
      "outputs": []
    },
    {
      "cell_type": "markdown",
      "source": [
        "사학도TV 남한산성 시리즈와 황현필 한국사 크롤링"
      ],
      "metadata": {
        "id": "aeEMX7ZUrd3R"
      }
    },
    {
      "cell_type": "code",
      "source": [
        "CHANNEL_HOST_NAME = '사학도TV'\n",
        "VIDEO_ID = ['qCLuH_jB8-E','2vq0-x-b5Kc','8hh18YYY73E','iOgX-G7pAss',\n",
        "            'GXkcghbfo2U','dQaPz6Azpz0','FV13AjxQnKs','-Qdr2KAYjiM','BvxUrx5DP6w']\n",
        "youtube_review_list = []\n",
        "series = 1\n",
        "for video_id in VIDEO_ID:\n",
        "    youtube_review_list += get_comments_exclude_host(video_id, CHANNEL_HOST_NAME, str(series))\n",
        "    print(len(youtube_review_list))\n",
        "    series += 1\n",
        "\n",
        "CHANNEL_HOST_NAME = '황현필 한국사'\n",
        "VIDEO_ID = 'bPSrXPOA1EQ'\n",
        "youtube_review_list += get_comments_exclude_host(VIDEO_ID, CHANNEL_HOST_NAME, 'Hwang')"
      ],
      "metadata": {
        "id": "GIPAI5e8oTUS"
      },
      "execution_count": null,
      "outputs": []
    },
    {
      "cell_type": "code",
      "source": [
        "df = pd.DataFrame(review_list, columns=[\"video\", \"user\", \"review\"])\n",
        "df.to_csv(f\"Youtube_review.csv\",index=False, encoding='utf-8-sig')"
      ],
      "metadata": {
        "id": "zJggE8Y8uaYz"
      },
      "execution_count": null,
      "outputs": []
    }
  ]
}
