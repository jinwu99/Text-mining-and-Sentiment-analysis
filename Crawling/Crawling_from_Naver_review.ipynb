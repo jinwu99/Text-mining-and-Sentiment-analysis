{
  "nbformat": 4,
  "nbformat_minor": 0,
  "metadata": {
    "colab": {
      "provenance": [],
      "authorship_tag": "ABX9TyNmmZGrUUM4nHQhdd0O0BYh",
      "include_colab_link": true
    },
    "kernelspec": {
      "name": "python3",
      "display_name": "Python 3"
    },
    "language_info": {
      "name": "python"
    }
  },
  "cells": [
    {
      "cell_type": "markdown",
      "metadata": {
        "id": "view-in-github",
        "colab_type": "text"
      },
      "source": [
        "<a href=\"https://colab.research.google.com/github/jinwu99/Text-mining-and-Sentiment-analysis/blob/main/Crawling/Crawling_from_Naver_review.ipynb\" target=\"_parent\"><img src=\"https://colab.research.google.com/assets/colab-badge.svg\" alt=\"Open In Colab\"/></a>"
      ]
    },
    {
      "cell_type": "code",
      "execution_count": null,
      "metadata": {
        "id": "bOrLZE9K11UY"
      },
      "outputs": [],
      "source": [
        "from google.colab import drive\n",
        "drive.mount('./MyDrive')\n",
        "\n",
        "cd MyDrive/My Drive/Colab Notebooks"
      ]
    },
    {
      "cell_type": "code",
      "source": [
        "import requests as req\n",
        "import pandas as pd\n",
        "from bs4 import BeautifulSoup as BS\n",
        "\n",
        "# 리뷰어는 총 4789명\n",
        "# 한 페이지당 10개 리뷰씩 있음\n",
        "total = 478\n",
        "review_list = []\n",
        "score_list = []\n",
        "id_list = []\n",
        "\n",
        "for page in range(0, total+1):\n",
        "    print(page,end=' ')\n",
        "    url = f'https://m.search.naver.com/p/csearch/content/nqapirender.nhn?where=nexearch&pkid=68&fileKey=movieKBPointAPI&u1=150637&_callback=_nexearch_where_68_pkid_movieKBPointAPI_fileKey_150637_u1_true_u5_newest_u3_true_u4_{page}_u2&u5=true&u3=newest&u4=true&u2={page}'\n",
        "    res = req.get(url)\n",
        "    soup = BS(res.text,\"html.parser\")\n",
        "    text = soup.find('span')\n",
        "    text = str(text)\n",
        "\n",
        "    start = '<span _text\\\\\"=\"\" class=\\'\\\\\"desc\\'>'\n",
        "    end = '&lt;\\\\/span&gt;\\\\n\\\\t\\\\t\\\\t'\n",
        "    review_list = review_list + [(text.split(start))[i].split(end)[0] for i in range(1,len(text.split(start)))]\n",
        "\n",
        "    start = '별점(10점 만점 중)&lt;\\\\/span&gt;'\n",
        "    end = '&lt;\\\\/div&gt;\\\\n'\n",
        "    score_list = score_list + [int((text.split(start))[i].split(end)[0]) for i in range(1,len(text.split(start)))]\n",
        "\n",
        "    start = 'data-writer-id=\\'\\\\\"'\n",
        "    end = '&lt;\\\\/dd&gt;\\\\n\\\\t\\\\t\\\\t'\n",
        "    id_list = id_list + [(text.split(start))[i].split(end)[0][0:8] for i in range(1,len(text.split(start)))]"
      ],
      "metadata": {
        "id": "5F18GdfO12Tl"
      },
      "execution_count": 1,
      "outputs": []
    },
    {
      "cell_type": "code",
      "source": [
        "df = pd.DataFrame(list(zip(id_list,score_list,review_list)), columns =['user', 'rating', 'review'])\n",
        "df.to_csv(f\"Naver_review.csv\",index=False, encoding='utf-8-sig')"
      ],
      "metadata": {
        "id": "TKSn7cZu12bI"
      },
      "execution_count": null,
      "outputs": []
    }
  ]
}