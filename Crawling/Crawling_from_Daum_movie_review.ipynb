{
  "nbformat": 4,
  "nbformat_minor": 0,
  "metadata": {
    "colab": {
      "provenance": [],
      "authorship_tag": "ABX9TyPs0JMMDNw/TRdHZV2F350r",
      "include_colab_link": true
    },
    "kernelspec": {
      "name": "python3",
      "display_name": "Python 3"
    },
    "language_info": {
      "name": "python"
    }
  },
  "cells": [
    {
      "cell_type": "markdown",
      "metadata": {
        "id": "view-in-github",
        "colab_type": "text"
      },
      "source": [
        "<a href=\"https://colab.research.google.com/github/jinwu99/Text-mining-and-Sentiment-analysis/blob/main/Crawling/Crawling_from_Daum_movie_review.ipynb\" target=\"_parent\"><img src=\"https://colab.research.google.com/assets/colab-badge.svg\" alt=\"Open In Colab\"/></a>"
      ]
    },
    {
      "cell_type": "code",
      "execution_count": null,
      "metadata": {
        "id": "Y4rmRGm0z3U4"
      },
      "outputs": [],
      "source": [
        "from google.colab import drive\n",
        "drive.mount('./MyDrive')\n",
        "\n",
        "cd MyDrive/My Drive/Colab Notebooks"
      ]
    },
    {
      "cell_type": "code",
      "source": [
        "import requests as req\n",
        "import json\n",
        "import pandas as pd\n",
        "from bs4 import BeautifulSoup as BS\n",
        "\n",
        "count_url = f\"https://comment.daum.net/apis/v1/comments/on/149617868/flags\"\n",
        "count_res = req.get(count_url)\n",
        "count_json = json.loads(count_res.text)\n",
        "count_json"
      ],
      "metadata": {
        "id": "5jDZWM0N1IFz"
      },
      "execution_count": null,
      "outputs": []
    },
    {
      "cell_type": "code",
      "source": [
        "review_list = []\n",
        "for page in range(0, total+1):\n",
        "    print(page)\n",
        "    url = f'https://comment.daum.net/apis/v1/posts/149617868/comments?parentId=0&offset={page}0&limit=10&sort=RECOMMEND&isInitial=false&hasNext=true'\n",
        "    res = req.get(url)\n",
        "    json_string = json.loads(res.text)\n",
        "    for index, _ in enumerate(json_string):\n",
        "        review = json_string[index][\"content\"]\n",
        "        user = json_string[index][\"user\"][\"displayName\"]\n",
        "        rating = json_string[index][\"rating\"]\n",
        "        review_list.append([user, rating, review])"
      ],
      "metadata": {
        "id": "Ct0Ip7pR1IIe"
      },
      "execution_count": null,
      "outputs": []
    },
    {
      "cell_type": "code",
      "source": [
        "df = pd.DataFrame(review_list, columns=[\"user\", \"rating\", \"review\"])\n",
        "df.to_csv(f\"Daum_review.csv\",index=False, encoding='utf-8-sig')"
      ],
      "metadata": {
        "id": "N4A6wiED1Zrd"
      },
      "execution_count": null,
      "outputs": []
    }
  ]
}