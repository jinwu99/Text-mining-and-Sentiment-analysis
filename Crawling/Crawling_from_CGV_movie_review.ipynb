{
  "nbformat": 4,
  "nbformat_minor": 0,
  "metadata": {
    "colab": {
      "provenance": [],
      "authorship_tag": "ABX9TyPOGpEAO+qDT1KxGQ8Ip1F6",
      "include_colab_link": true
    },
    "kernelspec": {
      "name": "python3",
      "display_name": "Python 3"
    },
    "language_info": {
      "name": "python"
    }
  },
  "cells": [
    {
      "cell_type": "markdown",
      "metadata": {
        "id": "view-in-github",
        "colab_type": "text"
      },
      "source": [
        "<a href=\"https://colab.research.google.com/github/jinwu99/Text-mining-and-Sentiment-analysis/blob/main/Crawling/Crawling_from_CGV_movie_review.ipynb\" target=\"_parent\"><img src=\"https://colab.research.google.com/assets/colab-badge.svg\" alt=\"Open In Colab\"/></a>"
      ]
    },
    {
      "cell_type": "code",
      "source": [
        "# Colab에서는 chromedriver설치 관련 오류해결이 쉽지 않아서\n",
        "# local jupyter notebook으로 시행하였음.\n",
        "!pip install Selenium\n",
        "!pip install webdriver_manager"
      ],
      "metadata": {
        "id": "9zSNgosv5R4C"
      },
      "execution_count": null,
      "outputs": []
    },
    {
      "cell_type": "code",
      "source": [
        "from selenium import webdriver\n",
        "from selenium.webdriver.common.by import By\n",
        "from selenium.webdriver.chrome.service import Service\n",
        "from webdriver_manager.chrome import ChromeDriverManager\n",
        "from bs4 import BeautifulSoup\n",
        "import pandas as pd\n",
        "import numpy as np\n",
        "import time\n",
        "\n",
        "driver = webdriver.Chrome(service= Service(ChromeDriverManager().install()))\n",
        "url = \"http://www.cgv.co.kr/movies/detail-view/?midx=79902\"\n",
        "driver.get(url)"
      ],
      "metadata": {
        "id": "f97e6C3d5R6N"
      },
      "execution_count": null,
      "outputs": []
    },
    {
      "cell_type": "code",
      "source": [
        "# 당시 총 리뷰 수는 36233개, 한 페이지에 6개의 리뷰\n",
        "start = 1\n",
        "page_num = 36233//6 - start\n",
        "score_list = []\n",
        "\n",
        "for page_no in range(start,page_num+start):\n",
        "    try:\n",
        "        page_ul = driver.find_element('id','paging_point') # 페이지 포인트 코드 추출\n",
        "        page_a = page_ul.find_element(By.LINK_TEXT,str(page_no))\n",
        "        page_a.click()\n",
        "        time.sleep(1) # 페이지 로딩까지의 시간 두기\n",
        "\n",
        "        # 작성자 이름\n",
        "        writers = driver.find_elements(By.CLASS_NAME,'writer-name')\n",
        "        writer_list += [writer.text for writer in writers]\n",
        "        # 리뷰\n",
        "        reviews = driver.find_elements(By.CLASS_NAME,'box-comment')\n",
        "        review_list += [ review.text for review in reviews ]\n",
        "        # 작성날짜\n",
        "        dates = driver.find_elements(By.CLASS_NAME,'day')\n",
        "        date_list += [date.text for date in dates]\n",
        "\n",
        "        # 골든에그지수\n",
        "        good = driver.find_elements(By.CSS_SELECTOR,'span.egg-icon.good')\n",
        "        all = driver.find_elements(By.CSS_SELECTOR,'span.egg-icon')\n",
        "        tmp_score = []\n",
        "        for score in all:\n",
        "            if score in good:\n",
        "                tmp_score.append(1)\n",
        "            else:\n",
        "                tmp_score.append(0)\n",
        "        score_list += tmp_score\n",
        "\n",
        "        cgv_review = pd.DataFrame({\"id\" : writer_list,\n",
        "                                   \"document\" : review_list,\n",
        "                                   \"Date\" : date_list,\n",
        "                                   \"label\" : score_list})\n",
        "        cgv_review.to_csv('cgv_review.csv',\n",
        "                   index=False,\n",
        "                   encoding='utf-8-sig')\n",
        "\n",
        "        # 잘 돌아가는지 중간체크용\n",
        "        print('stored page : ',len(score_list)/6)\n",
        "\n",
        "        if page_no % 10 == 0: # 10이상의 값을 만났을 때\n",
        "            if page_no==10 :\n",
        "                    page_ul = driver.find_element('id','paging_point')\n",
        "                    next_button = page_ul.find_element(By.CLASS_NAME,\"paging-side\")\n",
        "                    next_button.click()\n",
        "                    time.sleep(1)\n",
        "            else :\n",
        "                    page_ul = driver.find_element('id','paging_point')\n",
        "                    next_button = page_ul.find_elements(By.CLASS_NAME,\"paging-side\")\n",
        "                    next_button[2].click()\n",
        "                    time.sleep(1)\n",
        "\n",
        "    except NoSuchElementException:\n",
        "            print(\"불러올 페이지가 없습니다.\")\n",
        "            break"
      ],
      "metadata": {
        "id": "vue4AnBx5R9x"
      },
      "execution_count": null,
      "outputs": []
    }
  ]
}