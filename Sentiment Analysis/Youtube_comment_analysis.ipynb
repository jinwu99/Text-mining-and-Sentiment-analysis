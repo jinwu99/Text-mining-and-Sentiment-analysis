{
  "nbformat": 4,
  "nbformat_minor": 0,
  "metadata": {
    "colab": {
      "provenance": [],
      "authorship_tag": "ABX9TyN+U88eP2cmFqzxqZxb9ui0",
      "include_colab_link": true
    },
    "kernelspec": {
      "name": "python3",
      "display_name": "Python 3"
    },
    "language_info": {
      "name": "python"
    },
    "widgets": {
      "application/vnd.jupyter.widget-state+json": {
        "a048b6f814454b66ac1db3e9dfec082c": {
          "model_module": "@jupyter-widgets/controls",
          "model_name": "HBoxModel",
          "model_module_version": "1.5.0",
          "state": {
            "_dom_classes": [],
            "_model_module": "@jupyter-widgets/controls",
            "_model_module_version": "1.5.0",
            "_model_name": "HBoxModel",
            "_view_count": null,
            "_view_module": "@jupyter-widgets/controls",
            "_view_module_version": "1.5.0",
            "_view_name": "HBoxView",
            "box_style": "",
            "children": [
              "IPY_MODEL_eee4021b0dae4826a4027618013321e9",
              "IPY_MODEL_10d64e96ed4e4cdb9b6f5cd0db275885",
              "IPY_MODEL_0a94aae2ad144d279d7d480ea9771f73"
            ],
            "layout": "IPY_MODEL_71209a4d84124c829a2f18892d32576c"
          }
        },
        "eee4021b0dae4826a4027618013321e9": {
          "model_module": "@jupyter-widgets/controls",
          "model_name": "HTMLModel",
          "model_module_version": "1.5.0",
          "state": {
            "_dom_classes": [],
            "_model_module": "@jupyter-widgets/controls",
            "_model_module_version": "1.5.0",
            "_model_name": "HTMLModel",
            "_view_count": null,
            "_view_module": "@jupyter-widgets/controls",
            "_view_module_version": "1.5.0",
            "_view_name": "HTMLView",
            "description": "",
            "description_tooltip": null,
            "layout": "IPY_MODEL_8173b864789941f1adb3478a0fca28c6",
            "placeholder": "​",
            "style": "IPY_MODEL_d3ce6e977c2148438b8472ea2db1860e",
            "value": "Downloading (…)/main/tokenizer.json: 100%"
          }
        },
        "10d64e96ed4e4cdb9b6f5cd0db275885": {
          "model_module": "@jupyter-widgets/controls",
          "model_name": "FloatProgressModel",
          "model_module_version": "1.5.0",
          "state": {
            "_dom_classes": [],
            "_model_module": "@jupyter-widgets/controls",
            "_model_module_version": "1.5.0",
            "_model_name": "FloatProgressModel",
            "_view_count": null,
            "_view_module": "@jupyter-widgets/controls",
            "_view_module_version": "1.5.0",
            "_view_name": "ProgressView",
            "bar_style": "success",
            "description": "",
            "description_tooltip": null,
            "layout": "IPY_MODEL_0021cd2dc4c8446e9cf12439cca4d8ad",
            "max": 682152,
            "min": 0,
            "orientation": "horizontal",
            "style": "IPY_MODEL_d04b8308cdd147fdba3c45771375d829",
            "value": 682152
          }
        },
        "0a94aae2ad144d279d7d480ea9771f73": {
          "model_module": "@jupyter-widgets/controls",
          "model_name": "HTMLModel",
          "model_module_version": "1.5.0",
          "state": {
            "_dom_classes": [],
            "_model_module": "@jupyter-widgets/controls",
            "_model_module_version": "1.5.0",
            "_model_name": "HTMLModel",
            "_view_count": null,
            "_view_module": "@jupyter-widgets/controls",
            "_view_module_version": "1.5.0",
            "_view_name": "HTMLView",
            "description": "",
            "description_tooltip": null,
            "layout": "IPY_MODEL_91bd6c73c5a44268b56b6405422bfb16",
            "placeholder": "​",
            "style": "IPY_MODEL_d41b4f386a614e338c3a613724cbfa63",
            "value": " 682k/682k [00:00&lt;00:00, 996kB/s]"
          }
        },
        "71209a4d84124c829a2f18892d32576c": {
          "model_module": "@jupyter-widgets/base",
          "model_name": "LayoutModel",
          "model_module_version": "1.2.0",
          "state": {
            "_model_module": "@jupyter-widgets/base",
            "_model_module_version": "1.2.0",
            "_model_name": "LayoutModel",
            "_view_count": null,
            "_view_module": "@jupyter-widgets/base",
            "_view_module_version": "1.2.0",
            "_view_name": "LayoutView",
            "align_content": null,
            "align_items": null,
            "align_self": null,
            "border": null,
            "bottom": null,
            "display": null,
            "flex": null,
            "flex_flow": null,
            "grid_area": null,
            "grid_auto_columns": null,
            "grid_auto_flow": null,
            "grid_auto_rows": null,
            "grid_column": null,
            "grid_gap": null,
            "grid_row": null,
            "grid_template_areas": null,
            "grid_template_columns": null,
            "grid_template_rows": null,
            "height": null,
            "justify_content": null,
            "justify_items": null,
            "left": null,
            "margin": null,
            "max_height": null,
            "max_width": null,
            "min_height": null,
            "min_width": null,
            "object_fit": null,
            "object_position": null,
            "order": null,
            "overflow": null,
            "overflow_x": null,
            "overflow_y": null,
            "padding": null,
            "right": null,
            "top": null,
            "visibility": null,
            "width": null
          }
        },
        "8173b864789941f1adb3478a0fca28c6": {
          "model_module": "@jupyter-widgets/base",
          "model_name": "LayoutModel",
          "model_module_version": "1.2.0",
          "state": {
            "_model_module": "@jupyter-widgets/base",
            "_model_module_version": "1.2.0",
            "_model_name": "LayoutModel",
            "_view_count": null,
            "_view_module": "@jupyter-widgets/base",
            "_view_module_version": "1.2.0",
            "_view_name": "LayoutView",
            "align_content": null,
            "align_items": null,
            "align_self": null,
            "border": null,
            "bottom": null,
            "display": null,
            "flex": null,
            "flex_flow": null,
            "grid_area": null,
            "grid_auto_columns": null,
            "grid_auto_flow": null,
            "grid_auto_rows": null,
            "grid_column": null,
            "grid_gap": null,
            "grid_row": null,
            "grid_template_areas": null,
            "grid_template_columns": null,
            "grid_template_rows": null,
            "height": null,
            "justify_content": null,
            "justify_items": null,
            "left": null,
            "margin": null,
            "max_height": null,
            "max_width": null,
            "min_height": null,
            "min_width": null,
            "object_fit": null,
            "object_position": null,
            "order": null,
            "overflow": null,
            "overflow_x": null,
            "overflow_y": null,
            "padding": null,
            "right": null,
            "top": null,
            "visibility": null,
            "width": null
          }
        },
        "d3ce6e977c2148438b8472ea2db1860e": {
          "model_module": "@jupyter-widgets/controls",
          "model_name": "DescriptionStyleModel",
          "model_module_version": "1.5.0",
          "state": {
            "_model_module": "@jupyter-widgets/controls",
            "_model_module_version": "1.5.0",
            "_model_name": "DescriptionStyleModel",
            "_view_count": null,
            "_view_module": "@jupyter-widgets/base",
            "_view_module_version": "1.2.0",
            "_view_name": "StyleView",
            "description_width": ""
          }
        },
        "0021cd2dc4c8446e9cf12439cca4d8ad": {
          "model_module": "@jupyter-widgets/base",
          "model_name": "LayoutModel",
          "model_module_version": "1.2.0",
          "state": {
            "_model_module": "@jupyter-widgets/base",
            "_model_module_version": "1.2.0",
            "_model_name": "LayoutModel",
            "_view_count": null,
            "_view_module": "@jupyter-widgets/base",
            "_view_module_version": "1.2.0",
            "_view_name": "LayoutView",
            "align_content": null,
            "align_items": null,
            "align_self": null,
            "border": null,
            "bottom": null,
            "display": null,
            "flex": null,
            "flex_flow": null,
            "grid_area": null,
            "grid_auto_columns": null,
            "grid_auto_flow": null,
            "grid_auto_rows": null,
            "grid_column": null,
            "grid_gap": null,
            "grid_row": null,
            "grid_template_areas": null,
            "grid_template_columns": null,
            "grid_template_rows": null,
            "height": null,
            "justify_content": null,
            "justify_items": null,
            "left": null,
            "margin": null,
            "max_height": null,
            "max_width": null,
            "min_height": null,
            "min_width": null,
            "object_fit": null,
            "object_position": null,
            "order": null,
            "overflow": null,
            "overflow_x": null,
            "overflow_y": null,
            "padding": null,
            "right": null,
            "top": null,
            "visibility": null,
            "width": null
          }
        },
        "d04b8308cdd147fdba3c45771375d829": {
          "model_module": "@jupyter-widgets/controls",
          "model_name": "ProgressStyleModel",
          "model_module_version": "1.5.0",
          "state": {
            "_model_module": "@jupyter-widgets/controls",
            "_model_module_version": "1.5.0",
            "_model_name": "ProgressStyleModel",
            "_view_count": null,
            "_view_module": "@jupyter-widgets/base",
            "_view_module_version": "1.2.0",
            "_view_name": "StyleView",
            "bar_color": null,
            "description_width": ""
          }
        },
        "91bd6c73c5a44268b56b6405422bfb16": {
          "model_module": "@jupyter-widgets/base",
          "model_name": "LayoutModel",
          "model_module_version": "1.2.0",
          "state": {
            "_model_module": "@jupyter-widgets/base",
            "_model_module_version": "1.2.0",
            "_model_name": "LayoutModel",
            "_view_count": null,
            "_view_module": "@jupyter-widgets/base",
            "_view_module_version": "1.2.0",
            "_view_name": "LayoutView",
            "align_content": null,
            "align_items": null,
            "align_self": null,
            "border": null,
            "bottom": null,
            "display": null,
            "flex": null,
            "flex_flow": null,
            "grid_area": null,
            "grid_auto_columns": null,
            "grid_auto_flow": null,
            "grid_auto_rows": null,
            "grid_column": null,
            "grid_gap": null,
            "grid_row": null,
            "grid_template_areas": null,
            "grid_template_columns": null,
            "grid_template_rows": null,
            "height": null,
            "justify_content": null,
            "justify_items": null,
            "left": null,
            "margin": null,
            "max_height": null,
            "max_width": null,
            "min_height": null,
            "min_width": null,
            "object_fit": null,
            "object_position": null,
            "order": null,
            "overflow": null,
            "overflow_x": null,
            "overflow_y": null,
            "padding": null,
            "right": null,
            "top": null,
            "visibility": null,
            "width": null
          }
        },
        "d41b4f386a614e338c3a613724cbfa63": {
          "model_module": "@jupyter-widgets/controls",
          "model_name": "DescriptionStyleModel",
          "model_module_version": "1.5.0",
          "state": {
            "_model_module": "@jupyter-widgets/controls",
            "_model_module_version": "1.5.0",
            "_model_name": "DescriptionStyleModel",
            "_view_count": null,
            "_view_module": "@jupyter-widgets/base",
            "_view_module_version": "1.2.0",
            "_view_name": "StyleView",
            "description_width": ""
          }
        },
        "8edff48a76df417b8685c39f59feb69a": {
          "model_module": "@jupyter-widgets/controls",
          "model_name": "HBoxModel",
          "model_module_version": "1.5.0",
          "state": {
            "_dom_classes": [],
            "_model_module": "@jupyter-widgets/controls",
            "_model_module_version": "1.5.0",
            "_model_name": "HBoxModel",
            "_view_count": null,
            "_view_module": "@jupyter-widgets/controls",
            "_view_module_version": "1.5.0",
            "_view_name": "HBoxView",
            "box_style": "",
            "children": [
              "IPY_MODEL_665a092564ac484784598589b6d5439c",
              "IPY_MODEL_e07d90a64e2b4b7f90caf966804804b2",
              "IPY_MODEL_1ea1e22a62db4948bdf7880f2a0cdd41"
            ],
            "layout": "IPY_MODEL_81b1d096f26346619115bb7925e75c8a"
          }
        },
        "665a092564ac484784598589b6d5439c": {
          "model_module": "@jupyter-widgets/controls",
          "model_name": "HTMLModel",
          "model_module_version": "1.5.0",
          "state": {
            "_dom_classes": [],
            "_model_module": "@jupyter-widgets/controls",
            "_model_module_version": "1.5.0",
            "_model_name": "HTMLModel",
            "_view_count": null,
            "_view_module": "@jupyter-widgets/controls",
            "_view_module_version": "1.5.0",
            "_view_name": "HTMLView",
            "description": "",
            "description_tooltip": null,
            "layout": "IPY_MODEL_d3d7867726d14938ae0846272ab72125",
            "placeholder": "​",
            "style": "IPY_MODEL_3519aacdae6c43e19dc58e7bc4539321",
            "value": "Downloading (…)in/added_tokens.json: 100%"
          }
        },
        "e07d90a64e2b4b7f90caf966804804b2": {
          "model_module": "@jupyter-widgets/controls",
          "model_name": "FloatProgressModel",
          "model_module_version": "1.5.0",
          "state": {
            "_dom_classes": [],
            "_model_module": "@jupyter-widgets/controls",
            "_model_module_version": "1.5.0",
            "_model_name": "FloatProgressModel",
            "_view_count": null,
            "_view_module": "@jupyter-widgets/controls",
            "_view_module_version": "1.5.0",
            "_view_name": "ProgressView",
            "bar_style": "success",
            "description": "",
            "description_tooltip": null,
            "layout": "IPY_MODEL_a8f01960436a47d1986dcc84650d8a9b",
            "max": 4,
            "min": 0,
            "orientation": "horizontal",
            "style": "IPY_MODEL_8dfba7b6865f43be956e74d2a6623afd",
            "value": 4
          }
        },
        "1ea1e22a62db4948bdf7880f2a0cdd41": {
          "model_module": "@jupyter-widgets/controls",
          "model_name": "HTMLModel",
          "model_module_version": "1.5.0",
          "state": {
            "_dom_classes": [],
            "_model_module": "@jupyter-widgets/controls",
            "_model_module_version": "1.5.0",
            "_model_name": "HTMLModel",
            "_view_count": null,
            "_view_module": "@jupyter-widgets/controls",
            "_view_module_version": "1.5.0",
            "_view_name": "HTMLView",
            "description": "",
            "description_tooltip": null,
            "layout": "IPY_MODEL_b8f0bf6549d9423293ec4a5ffa220dc3",
            "placeholder": "​",
            "style": "IPY_MODEL_38528658af9e4235aed02ad4d295fa14",
            "value": " 4.00/4.00 [00:00&lt;00:00, 193B/s]"
          }
        },
        "81b1d096f26346619115bb7925e75c8a": {
          "model_module": "@jupyter-widgets/base",
          "model_name": "LayoutModel",
          "model_module_version": "1.2.0",
          "state": {
            "_model_module": "@jupyter-widgets/base",
            "_model_module_version": "1.2.0",
            "_model_name": "LayoutModel",
            "_view_count": null,
            "_view_module": "@jupyter-widgets/base",
            "_view_module_version": "1.2.0",
            "_view_name": "LayoutView",
            "align_content": null,
            "align_items": null,
            "align_self": null,
            "border": null,
            "bottom": null,
            "display": null,
            "flex": null,
            "flex_flow": null,
            "grid_area": null,
            "grid_auto_columns": null,
            "grid_auto_flow": null,
            "grid_auto_rows": null,
            "grid_column": null,
            "grid_gap": null,
            "grid_row": null,
            "grid_template_areas": null,
            "grid_template_columns": null,
            "grid_template_rows": null,
            "height": null,
            "justify_content": null,
            "justify_items": null,
            "left": null,
            "margin": null,
            "max_height": null,
            "max_width": null,
            "min_height": null,
            "min_width": null,
            "object_fit": null,
            "object_position": null,
            "order": null,
            "overflow": null,
            "overflow_x": null,
            "overflow_y": null,
            "padding": null,
            "right": null,
            "top": null,
            "visibility": null,
            "width": null
          }
        },
        "d3d7867726d14938ae0846272ab72125": {
          "model_module": "@jupyter-widgets/base",
          "model_name": "LayoutModel",
          "model_module_version": "1.2.0",
          "state": {
            "_model_module": "@jupyter-widgets/base",
            "_model_module_version": "1.2.0",
            "_model_name": "LayoutModel",
            "_view_count": null,
            "_view_module": "@jupyter-widgets/base",
            "_view_module_version": "1.2.0",
            "_view_name": "LayoutView",
            "align_content": null,
            "align_items": null,
            "align_self": null,
            "border": null,
            "bottom": null,
            "display": null,
            "flex": null,
            "flex_flow": null,
            "grid_area": null,
            "grid_auto_columns": null,
            "grid_auto_flow": null,
            "grid_auto_rows": null,
            "grid_column": null,
            "grid_gap": null,
            "grid_row": null,
            "grid_template_areas": null,
            "grid_template_columns": null,
            "grid_template_rows": null,
            "height": null,
            "justify_content": null,
            "justify_items": null,
            "left": null,
            "margin": null,
            "max_height": null,
            "max_width": null,
            "min_height": null,
            "min_width": null,
            "object_fit": null,
            "object_position": null,
            "order": null,
            "overflow": null,
            "overflow_x": null,
            "overflow_y": null,
            "padding": null,
            "right": null,
            "top": null,
            "visibility": null,
            "width": null
          }
        },
        "3519aacdae6c43e19dc58e7bc4539321": {
          "model_module": "@jupyter-widgets/controls",
          "model_name": "DescriptionStyleModel",
          "model_module_version": "1.5.0",
          "state": {
            "_model_module": "@jupyter-widgets/controls",
            "_model_module_version": "1.5.0",
            "_model_name": "DescriptionStyleModel",
            "_view_count": null,
            "_view_module": "@jupyter-widgets/base",
            "_view_module_version": "1.2.0",
            "_view_name": "StyleView",
            "description_width": ""
          }
        },
        "a8f01960436a47d1986dcc84650d8a9b": {
          "model_module": "@jupyter-widgets/base",
          "model_name": "LayoutModel",
          "model_module_version": "1.2.0",
          "state": {
            "_model_module": "@jupyter-widgets/base",
            "_model_module_version": "1.2.0",
            "_model_name": "LayoutModel",
            "_view_count": null,
            "_view_module": "@jupyter-widgets/base",
            "_view_module_version": "1.2.0",
            "_view_name": "LayoutView",
            "align_content": null,
            "align_items": null,
            "align_self": null,
            "border": null,
            "bottom": null,
            "display": null,
            "flex": null,
            "flex_flow": null,
            "grid_area": null,
            "grid_auto_columns": null,
            "grid_auto_flow": null,
            "grid_auto_rows": null,
            "grid_column": null,
            "grid_gap": null,
            "grid_row": null,
            "grid_template_areas": null,
            "grid_template_columns": null,
            "grid_template_rows": null,
            "height": null,
            "justify_content": null,
            "justify_items": null,
            "left": null,
            "margin": null,
            "max_height": null,
            "max_width": null,
            "min_height": null,
            "min_width": null,
            "object_fit": null,
            "object_position": null,
            "order": null,
            "overflow": null,
            "overflow_x": null,
            "overflow_y": null,
            "padding": null,
            "right": null,
            "top": null,
            "visibility": null,
            "width": null
          }
        },
        "8dfba7b6865f43be956e74d2a6623afd": {
          "model_module": "@jupyter-widgets/controls",
          "model_name": "ProgressStyleModel",
          "model_module_version": "1.5.0",
          "state": {
            "_model_module": "@jupyter-widgets/controls",
            "_model_module_version": "1.5.0",
            "_model_name": "ProgressStyleModel",
            "_view_count": null,
            "_view_module": "@jupyter-widgets/base",
            "_view_module_version": "1.2.0",
            "_view_name": "StyleView",
            "bar_color": null,
            "description_width": ""
          }
        },
        "b8f0bf6549d9423293ec4a5ffa220dc3": {
          "model_module": "@jupyter-widgets/base",
          "model_name": "LayoutModel",
          "model_module_version": "1.2.0",
          "state": {
            "_model_module": "@jupyter-widgets/base",
            "_model_module_version": "1.2.0",
            "_model_name": "LayoutModel",
            "_view_count": null,
            "_view_module": "@jupyter-widgets/base",
            "_view_module_version": "1.2.0",
            "_view_name": "LayoutView",
            "align_content": null,
            "align_items": null,
            "align_self": null,
            "border": null,
            "bottom": null,
            "display": null,
            "flex": null,
            "flex_flow": null,
            "grid_area": null,
            "grid_auto_columns": null,
            "grid_auto_flow": null,
            "grid_auto_rows": null,
            "grid_column": null,
            "grid_gap": null,
            "grid_row": null,
            "grid_template_areas": null,
            "grid_template_columns": null,
            "grid_template_rows": null,
            "height": null,
            "justify_content": null,
            "justify_items": null,
            "left": null,
            "margin": null,
            "max_height": null,
            "max_width": null,
            "min_height": null,
            "min_width": null,
            "object_fit": null,
            "object_position": null,
            "order": null,
            "overflow": null,
            "overflow_x": null,
            "overflow_y": null,
            "padding": null,
            "right": null,
            "top": null,
            "visibility": null,
            "width": null
          }
        },
        "38528658af9e4235aed02ad4d295fa14": {
          "model_module": "@jupyter-widgets/controls",
          "model_name": "DescriptionStyleModel",
          "model_module_version": "1.5.0",
          "state": {
            "_model_module": "@jupyter-widgets/controls",
            "_model_module_version": "1.5.0",
            "_model_name": "DescriptionStyleModel",
            "_view_count": null,
            "_view_module": "@jupyter-widgets/base",
            "_view_module_version": "1.2.0",
            "_view_name": "StyleView",
            "description_width": ""
          }
        },
        "a2fe51e0d8e343f9b1f24ea4e1eba084": {
          "model_module": "@jupyter-widgets/controls",
          "model_name": "HBoxModel",
          "model_module_version": "1.5.0",
          "state": {
            "_dom_classes": [],
            "_model_module": "@jupyter-widgets/controls",
            "_model_module_version": "1.5.0",
            "_model_name": "HBoxModel",
            "_view_count": null,
            "_view_module": "@jupyter-widgets/controls",
            "_view_module_version": "1.5.0",
            "_view_name": "HBoxView",
            "box_style": "",
            "children": [
              "IPY_MODEL_17a7750c379a4c4883648f4096878e1a",
              "IPY_MODEL_f45aa75764bc481ab1f275c59dd62504",
              "IPY_MODEL_1d229a0164da46aaab04d8835c42d0be"
            ],
            "layout": "IPY_MODEL_c344e829397b4df19690e0f9ec78a27a"
          }
        },
        "17a7750c379a4c4883648f4096878e1a": {
          "model_module": "@jupyter-widgets/controls",
          "model_name": "HTMLModel",
          "model_module_version": "1.5.0",
          "state": {
            "_dom_classes": [],
            "_model_module": "@jupyter-widgets/controls",
            "_model_module_version": "1.5.0",
            "_model_name": "HTMLModel",
            "_view_count": null,
            "_view_module": "@jupyter-widgets/controls",
            "_view_module_version": "1.5.0",
            "_view_name": "HTMLView",
            "description": "",
            "description_tooltip": null,
            "layout": "IPY_MODEL_1374322601cf4c90905c69144f4a821d",
            "placeholder": "​",
            "style": "IPY_MODEL_d536de82ab604c56a120ac3f56cab13f",
            "value": "Downloading (…)cial_tokens_map.json: 100%"
          }
        },
        "f45aa75764bc481ab1f275c59dd62504": {
          "model_module": "@jupyter-widgets/controls",
          "model_name": "FloatProgressModel",
          "model_module_version": "1.5.0",
          "state": {
            "_dom_classes": [],
            "_model_module": "@jupyter-widgets/controls",
            "_model_module_version": "1.5.0",
            "_model_name": "FloatProgressModel",
            "_view_count": null,
            "_view_module": "@jupyter-widgets/controls",
            "_view_module_version": "1.5.0",
            "_view_name": "ProgressView",
            "bar_style": "success",
            "description": "",
            "description_tooltip": null,
            "layout": "IPY_MODEL_bf3c2e80b48e479e9c8a96b93104e791",
            "max": 111,
            "min": 0,
            "orientation": "horizontal",
            "style": "IPY_MODEL_09e71fda23054aabacffb25fba19ec24",
            "value": 111
          }
        },
        "1d229a0164da46aaab04d8835c42d0be": {
          "model_module": "@jupyter-widgets/controls",
          "model_name": "HTMLModel",
          "model_module_version": "1.5.0",
          "state": {
            "_dom_classes": [],
            "_model_module": "@jupyter-widgets/controls",
            "_model_module_version": "1.5.0",
            "_model_name": "HTMLModel",
            "_view_count": null,
            "_view_module": "@jupyter-widgets/controls",
            "_view_module_version": "1.5.0",
            "_view_name": "HTMLView",
            "description": "",
            "description_tooltip": null,
            "layout": "IPY_MODEL_fc17ba1319f346e4ab38d15fb7c8c61b",
            "placeholder": "​",
            "style": "IPY_MODEL_435b26978f804db2a44a04f31324a9f3",
            "value": " 111/111 [00:00&lt;00:00, 4.42kB/s]"
          }
        },
        "c344e829397b4df19690e0f9ec78a27a": {
          "model_module": "@jupyter-widgets/base",
          "model_name": "LayoutModel",
          "model_module_version": "1.2.0",
          "state": {
            "_model_module": "@jupyter-widgets/base",
            "_model_module_version": "1.2.0",
            "_model_name": "LayoutModel",
            "_view_count": null,
            "_view_module": "@jupyter-widgets/base",
            "_view_module_version": "1.2.0",
            "_view_name": "LayoutView",
            "align_content": null,
            "align_items": null,
            "align_self": null,
            "border": null,
            "bottom": null,
            "display": null,
            "flex": null,
            "flex_flow": null,
            "grid_area": null,
            "grid_auto_columns": null,
            "grid_auto_flow": null,
            "grid_auto_rows": null,
            "grid_column": null,
            "grid_gap": null,
            "grid_row": null,
            "grid_template_areas": null,
            "grid_template_columns": null,
            "grid_template_rows": null,
            "height": null,
            "justify_content": null,
            "justify_items": null,
            "left": null,
            "margin": null,
            "max_height": null,
            "max_width": null,
            "min_height": null,
            "min_width": null,
            "object_fit": null,
            "object_position": null,
            "order": null,
            "overflow": null,
            "overflow_x": null,
            "overflow_y": null,
            "padding": null,
            "right": null,
            "top": null,
            "visibility": null,
            "width": null
          }
        },
        "1374322601cf4c90905c69144f4a821d": {
          "model_module": "@jupyter-widgets/base",
          "model_name": "LayoutModel",
          "model_module_version": "1.2.0",
          "state": {
            "_model_module": "@jupyter-widgets/base",
            "_model_module_version": "1.2.0",
            "_model_name": "LayoutModel",
            "_view_count": null,
            "_view_module": "@jupyter-widgets/base",
            "_view_module_version": "1.2.0",
            "_view_name": "LayoutView",
            "align_content": null,
            "align_items": null,
            "align_self": null,
            "border": null,
            "bottom": null,
            "display": null,
            "flex": null,
            "flex_flow": null,
            "grid_area": null,
            "grid_auto_columns": null,
            "grid_auto_flow": null,
            "grid_auto_rows": null,
            "grid_column": null,
            "grid_gap": null,
            "grid_row": null,
            "grid_template_areas": null,
            "grid_template_columns": null,
            "grid_template_rows": null,
            "height": null,
            "justify_content": null,
            "justify_items": null,
            "left": null,
            "margin": null,
            "max_height": null,
            "max_width": null,
            "min_height": null,
            "min_width": null,
            "object_fit": null,
            "object_position": null,
            "order": null,
            "overflow": null,
            "overflow_x": null,
            "overflow_y": null,
            "padding": null,
            "right": null,
            "top": null,
            "visibility": null,
            "width": null
          }
        },
        "d536de82ab604c56a120ac3f56cab13f": {
          "model_module": "@jupyter-widgets/controls",
          "model_name": "DescriptionStyleModel",
          "model_module_version": "1.5.0",
          "state": {
            "_model_module": "@jupyter-widgets/controls",
            "_model_module_version": "1.5.0",
            "_model_name": "DescriptionStyleModel",
            "_view_count": null,
            "_view_module": "@jupyter-widgets/base",
            "_view_module_version": "1.2.0",
            "_view_name": "StyleView",
            "description_width": ""
          }
        },
        "bf3c2e80b48e479e9c8a96b93104e791": {
          "model_module": "@jupyter-widgets/base",
          "model_name": "LayoutModel",
          "model_module_version": "1.2.0",
          "state": {
            "_model_module": "@jupyter-widgets/base",
            "_model_module_version": "1.2.0",
            "_model_name": "LayoutModel",
            "_view_count": null,
            "_view_module": "@jupyter-widgets/base",
            "_view_module_version": "1.2.0",
            "_view_name": "LayoutView",
            "align_content": null,
            "align_items": null,
            "align_self": null,
            "border": null,
            "bottom": null,
            "display": null,
            "flex": null,
            "flex_flow": null,
            "grid_area": null,
            "grid_auto_columns": null,
            "grid_auto_flow": null,
            "grid_auto_rows": null,
            "grid_column": null,
            "grid_gap": null,
            "grid_row": null,
            "grid_template_areas": null,
            "grid_template_columns": null,
            "grid_template_rows": null,
            "height": null,
            "justify_content": null,
            "justify_items": null,
            "left": null,
            "margin": null,
            "max_height": null,
            "max_width": null,
            "min_height": null,
            "min_width": null,
            "object_fit": null,
            "object_position": null,
            "order": null,
            "overflow": null,
            "overflow_x": null,
            "overflow_y": null,
            "padding": null,
            "right": null,
            "top": null,
            "visibility": null,
            "width": null
          }
        },
        "09e71fda23054aabacffb25fba19ec24": {
          "model_module": "@jupyter-widgets/controls",
          "model_name": "ProgressStyleModel",
          "model_module_version": "1.5.0",
          "state": {
            "_model_module": "@jupyter-widgets/controls",
            "_model_module_version": "1.5.0",
            "_model_name": "ProgressStyleModel",
            "_view_count": null,
            "_view_module": "@jupyter-widgets/base",
            "_view_module_version": "1.2.0",
            "_view_name": "StyleView",
            "bar_color": null,
            "description_width": ""
          }
        },
        "fc17ba1319f346e4ab38d15fb7c8c61b": {
          "model_module": "@jupyter-widgets/base",
          "model_name": "LayoutModel",
          "model_module_version": "1.2.0",
          "state": {
            "_model_module": "@jupyter-widgets/base",
            "_model_module_version": "1.2.0",
            "_model_name": "LayoutModel",
            "_view_count": null,
            "_view_module": "@jupyter-widgets/base",
            "_view_module_version": "1.2.0",
            "_view_name": "LayoutView",
            "align_content": null,
            "align_items": null,
            "align_self": null,
            "border": null,
            "bottom": null,
            "display": null,
            "flex": null,
            "flex_flow": null,
            "grid_area": null,
            "grid_auto_columns": null,
            "grid_auto_flow": null,
            "grid_auto_rows": null,
            "grid_column": null,
            "grid_gap": null,
            "grid_row": null,
            "grid_template_areas": null,
            "grid_template_columns": null,
            "grid_template_rows": null,
            "height": null,
            "justify_content": null,
            "justify_items": null,
            "left": null,
            "margin": null,
            "max_height": null,
            "max_width": null,
            "min_height": null,
            "min_width": null,
            "object_fit": null,
            "object_position": null,
            "order": null,
            "overflow": null,
            "overflow_x": null,
            "overflow_y": null,
            "padding": null,
            "right": null,
            "top": null,
            "visibility": null,
            "width": null
          }
        },
        "435b26978f804db2a44a04f31324a9f3": {
          "model_module": "@jupyter-widgets/controls",
          "model_name": "DescriptionStyleModel",
          "model_module_version": "1.5.0",
          "state": {
            "_model_module": "@jupyter-widgets/controls",
            "_model_module_version": "1.5.0",
            "_model_name": "DescriptionStyleModel",
            "_view_count": null,
            "_view_module": "@jupyter-widgets/base",
            "_view_module_version": "1.2.0",
            "_view_name": "StyleView",
            "description_width": ""
          }
        },
        "15c3b9c0c0e749f0b73dd25a78abafdc": {
          "model_module": "@jupyter-widgets/controls",
          "model_name": "HBoxModel",
          "model_module_version": "1.5.0",
          "state": {
            "_dom_classes": [],
            "_model_module": "@jupyter-widgets/controls",
            "_model_module_version": "1.5.0",
            "_model_name": "HBoxModel",
            "_view_count": null,
            "_view_module": "@jupyter-widgets/controls",
            "_view_module_version": "1.5.0",
            "_view_name": "HBoxView",
            "box_style": "",
            "children": [
              "IPY_MODEL_c3d64b54bfc8435ba7e70a51d9c0bf32",
              "IPY_MODEL_6acd42937c02473d9e48f7c6f7cbcc88",
              "IPY_MODEL_db3f548c16ee4062881379f0271279ee"
            ],
            "layout": "IPY_MODEL_345e82a221de4c8fa8a25436590c3436"
          }
        },
        "c3d64b54bfc8435ba7e70a51d9c0bf32": {
          "model_module": "@jupyter-widgets/controls",
          "model_name": "HTMLModel",
          "model_module_version": "1.5.0",
          "state": {
            "_dom_classes": [],
            "_model_module": "@jupyter-widgets/controls",
            "_model_module_version": "1.5.0",
            "_model_name": "HTMLModel",
            "_view_count": null,
            "_view_module": "@jupyter-widgets/controls",
            "_view_module_version": "1.5.0",
            "_view_name": "HTMLView",
            "description": "",
            "description_tooltip": null,
            "layout": "IPY_MODEL_36ab378cc9b54997859a82b5d9dec88b",
            "placeholder": "​",
            "style": "IPY_MODEL_b2dd57ad91bd4ef2882a6adc930246bd",
            "value": "Downloading (…)lve/main/config.json: 100%"
          }
        },
        "6acd42937c02473d9e48f7c6f7cbcc88": {
          "model_module": "@jupyter-widgets/controls",
          "model_name": "FloatProgressModel",
          "model_module_version": "1.5.0",
          "state": {
            "_dom_classes": [],
            "_model_module": "@jupyter-widgets/controls",
            "_model_module_version": "1.5.0",
            "_model_name": "FloatProgressModel",
            "_view_count": null,
            "_view_module": "@jupyter-widgets/controls",
            "_view_module_version": "1.5.0",
            "_view_name": "ProgressView",
            "bar_style": "success",
            "description": "",
            "description_tooltip": null,
            "layout": "IPY_MODEL_910310fb473e4a889c6dc72aac7d8fe3",
            "max": 1178,
            "min": 0,
            "orientation": "horizontal",
            "style": "IPY_MODEL_f5546ace82a34991a45105d150b50594",
            "value": 1178
          }
        },
        "db3f548c16ee4062881379f0271279ee": {
          "model_module": "@jupyter-widgets/controls",
          "model_name": "HTMLModel",
          "model_module_version": "1.5.0",
          "state": {
            "_dom_classes": [],
            "_model_module": "@jupyter-widgets/controls",
            "_model_module_version": "1.5.0",
            "_model_name": "HTMLModel",
            "_view_count": null,
            "_view_module": "@jupyter-widgets/controls",
            "_view_module_version": "1.5.0",
            "_view_name": "HTMLView",
            "description": "",
            "description_tooltip": null,
            "layout": "IPY_MODEL_8a9a9487b0114ea49b6aae83f5c443a5",
            "placeholder": "​",
            "style": "IPY_MODEL_655225ec6e5646709be3fbf515bd8fed",
            "value": " 1.18k/1.18k [00:00&lt;00:00, 79.3kB/s]"
          }
        },
        "345e82a221de4c8fa8a25436590c3436": {
          "model_module": "@jupyter-widgets/base",
          "model_name": "LayoutModel",
          "model_module_version": "1.2.0",
          "state": {
            "_model_module": "@jupyter-widgets/base",
            "_model_module_version": "1.2.0",
            "_model_name": "LayoutModel",
            "_view_count": null,
            "_view_module": "@jupyter-widgets/base",
            "_view_module_version": "1.2.0",
            "_view_name": "LayoutView",
            "align_content": null,
            "align_items": null,
            "align_self": null,
            "border": null,
            "bottom": null,
            "display": null,
            "flex": null,
            "flex_flow": null,
            "grid_area": null,
            "grid_auto_columns": null,
            "grid_auto_flow": null,
            "grid_auto_rows": null,
            "grid_column": null,
            "grid_gap": null,
            "grid_row": null,
            "grid_template_areas": null,
            "grid_template_columns": null,
            "grid_template_rows": null,
            "height": null,
            "justify_content": null,
            "justify_items": null,
            "left": null,
            "margin": null,
            "max_height": null,
            "max_width": null,
            "min_height": null,
            "min_width": null,
            "object_fit": null,
            "object_position": null,
            "order": null,
            "overflow": null,
            "overflow_x": null,
            "overflow_y": null,
            "padding": null,
            "right": null,
            "top": null,
            "visibility": null,
            "width": null
          }
        },
        "36ab378cc9b54997859a82b5d9dec88b": {
          "model_module": "@jupyter-widgets/base",
          "model_name": "LayoutModel",
          "model_module_version": "1.2.0",
          "state": {
            "_model_module": "@jupyter-widgets/base",
            "_model_module_version": "1.2.0",
            "_model_name": "LayoutModel",
            "_view_count": null,
            "_view_module": "@jupyter-widgets/base",
            "_view_module_version": "1.2.0",
            "_view_name": "LayoutView",
            "align_content": null,
            "align_items": null,
            "align_self": null,
            "border": null,
            "bottom": null,
            "display": null,
            "flex": null,
            "flex_flow": null,
            "grid_area": null,
            "grid_auto_columns": null,
            "grid_auto_flow": null,
            "grid_auto_rows": null,
            "grid_column": null,
            "grid_gap": null,
            "grid_row": null,
            "grid_template_areas": null,
            "grid_template_columns": null,
            "grid_template_rows": null,
            "height": null,
            "justify_content": null,
            "justify_items": null,
            "left": null,
            "margin": null,
            "max_height": null,
            "max_width": null,
            "min_height": null,
            "min_width": null,
            "object_fit": null,
            "object_position": null,
            "order": null,
            "overflow": null,
            "overflow_x": null,
            "overflow_y": null,
            "padding": null,
            "right": null,
            "top": null,
            "visibility": null,
            "width": null
          }
        },
        "b2dd57ad91bd4ef2882a6adc930246bd": {
          "model_module": "@jupyter-widgets/controls",
          "model_name": "DescriptionStyleModel",
          "model_module_version": "1.5.0",
          "state": {
            "_model_module": "@jupyter-widgets/controls",
            "_model_module_version": "1.5.0",
            "_model_name": "DescriptionStyleModel",
            "_view_count": null,
            "_view_module": "@jupyter-widgets/base",
            "_view_module_version": "1.2.0",
            "_view_name": "StyleView",
            "description_width": ""
          }
        },
        "910310fb473e4a889c6dc72aac7d8fe3": {
          "model_module": "@jupyter-widgets/base",
          "model_name": "LayoutModel",
          "model_module_version": "1.2.0",
          "state": {
            "_model_module": "@jupyter-widgets/base",
            "_model_module_version": "1.2.0",
            "_model_name": "LayoutModel",
            "_view_count": null,
            "_view_module": "@jupyter-widgets/base",
            "_view_module_version": "1.2.0",
            "_view_name": "LayoutView",
            "align_content": null,
            "align_items": null,
            "align_self": null,
            "border": null,
            "bottom": null,
            "display": null,
            "flex": null,
            "flex_flow": null,
            "grid_area": null,
            "grid_auto_columns": null,
            "grid_auto_flow": null,
            "grid_auto_rows": null,
            "grid_column": null,
            "grid_gap": null,
            "grid_row": null,
            "grid_template_areas": null,
            "grid_template_columns": null,
            "grid_template_rows": null,
            "height": null,
            "justify_content": null,
            "justify_items": null,
            "left": null,
            "margin": null,
            "max_height": null,
            "max_width": null,
            "min_height": null,
            "min_width": null,
            "object_fit": null,
            "object_position": null,
            "order": null,
            "overflow": null,
            "overflow_x": null,
            "overflow_y": null,
            "padding": null,
            "right": null,
            "top": null,
            "visibility": null,
            "width": null
          }
        },
        "f5546ace82a34991a45105d150b50594": {
          "model_module": "@jupyter-widgets/controls",
          "model_name": "ProgressStyleModel",
          "model_module_version": "1.5.0",
          "state": {
            "_model_module": "@jupyter-widgets/controls",
            "_model_module_version": "1.5.0",
            "_model_name": "ProgressStyleModel",
            "_view_count": null,
            "_view_module": "@jupyter-widgets/base",
            "_view_module_version": "1.2.0",
            "_view_name": "StyleView",
            "bar_color": null,
            "description_width": ""
          }
        },
        "8a9a9487b0114ea49b6aae83f5c443a5": {
          "model_module": "@jupyter-widgets/base",
          "model_name": "LayoutModel",
          "model_module_version": "1.2.0",
          "state": {
            "_model_module": "@jupyter-widgets/base",
            "_model_module_version": "1.2.0",
            "_model_name": "LayoutModel",
            "_view_count": null,
            "_view_module": "@jupyter-widgets/base",
            "_view_module_version": "1.2.0",
            "_view_name": "LayoutView",
            "align_content": null,
            "align_items": null,
            "align_self": null,
            "border": null,
            "bottom": null,
            "display": null,
            "flex": null,
            "flex_flow": null,
            "grid_area": null,
            "grid_auto_columns": null,
            "grid_auto_flow": null,
            "grid_auto_rows": null,
            "grid_column": null,
            "grid_gap": null,
            "grid_row": null,
            "grid_template_areas": null,
            "grid_template_columns": null,
            "grid_template_rows": null,
            "height": null,
            "justify_content": null,
            "justify_items": null,
            "left": null,
            "margin": null,
            "max_height": null,
            "max_width": null,
            "min_height": null,
            "min_width": null,
            "object_fit": null,
            "object_position": null,
            "order": null,
            "overflow": null,
            "overflow_x": null,
            "overflow_y": null,
            "padding": null,
            "right": null,
            "top": null,
            "visibility": null,
            "width": null
          }
        },
        "655225ec6e5646709be3fbf515bd8fed": {
          "model_module": "@jupyter-widgets/controls",
          "model_name": "DescriptionStyleModel",
          "model_module_version": "1.5.0",
          "state": {
            "_model_module": "@jupyter-widgets/controls",
            "_model_module_version": "1.5.0",
            "_model_name": "DescriptionStyleModel",
            "_view_count": null,
            "_view_module": "@jupyter-widgets/base",
            "_view_module_version": "1.2.0",
            "_view_name": "StyleView",
            "description_width": ""
          }
        },
        "8e376c8b23c549a384b290960e42b140": {
          "model_module": "@jupyter-widgets/controls",
          "model_name": "HBoxModel",
          "model_module_version": "1.5.0",
          "state": {
            "_dom_classes": [],
            "_model_module": "@jupyter-widgets/controls",
            "_model_module_version": "1.5.0",
            "_model_name": "HBoxModel",
            "_view_count": null,
            "_view_module": "@jupyter-widgets/controls",
            "_view_module_version": "1.5.0",
            "_view_name": "HBoxView",
            "box_style": "",
            "children": [
              "IPY_MODEL_5104a9d4c1f44be4b97a61bac10775bd",
              "IPY_MODEL_2f899ec694ee4ee595fb5049339a5517",
              "IPY_MODEL_af98db1eaae744e58c2b6be96c39f127"
            ],
            "layout": "IPY_MODEL_71fd2392d4f24142bd311d2be28f630a"
          }
        },
        "5104a9d4c1f44be4b97a61bac10775bd": {
          "model_module": "@jupyter-widgets/controls",
          "model_name": "HTMLModel",
          "model_module_version": "1.5.0",
          "state": {
            "_dom_classes": [],
            "_model_module": "@jupyter-widgets/controls",
            "_model_module_version": "1.5.0",
            "_model_name": "HTMLModel",
            "_view_count": null,
            "_view_module": "@jupyter-widgets/controls",
            "_view_module_version": "1.5.0",
            "_view_name": "HTMLView",
            "description": "",
            "description_tooltip": null,
            "layout": "IPY_MODEL_9ab86b38aa684af783beeae072882a78",
            "placeholder": "​",
            "style": "IPY_MODEL_cc99cb8f6d3545e692d361f29487276c",
            "value": "Downloading model.safetensors: 100%"
          }
        },
        "2f899ec694ee4ee595fb5049339a5517": {
          "model_module": "@jupyter-widgets/controls",
          "model_name": "FloatProgressModel",
          "model_module_version": "1.5.0",
          "state": {
            "_dom_classes": [],
            "_model_module": "@jupyter-widgets/controls",
            "_model_module_version": "1.5.0",
            "_model_name": "FloatProgressModel",
            "_view_count": null,
            "_view_module": "@jupyter-widgets/controls",
            "_view_module_version": "1.5.0",
            "_view_name": "ProgressView",
            "bar_style": "success",
            "description": "",
            "description_tooltip": null,
            "layout": "IPY_MODEL_9be18936d9914a2bb45ade178fab7d68",
            "max": 495589764,
            "min": 0,
            "orientation": "horizontal",
            "style": "IPY_MODEL_b9ce500058c64534ab9f8e6471b0a82e",
            "value": 495589764
          }
        },
        "af98db1eaae744e58c2b6be96c39f127": {
          "model_module": "@jupyter-widgets/controls",
          "model_name": "HTMLModel",
          "model_module_version": "1.5.0",
          "state": {
            "_dom_classes": [],
            "_model_module": "@jupyter-widgets/controls",
            "_model_module_version": "1.5.0",
            "_model_name": "HTMLModel",
            "_view_count": null,
            "_view_module": "@jupyter-widgets/controls",
            "_view_module_version": "1.5.0",
            "_view_name": "HTMLView",
            "description": "",
            "description_tooltip": null,
            "layout": "IPY_MODEL_1422d56eadbf451eb7eb1ad590f71121",
            "placeholder": "​",
            "style": "IPY_MODEL_288db2feb9664fac8c22f6ff2a2ccac5",
            "value": " 496M/496M [00:24&lt;00:00, 20.3MB/s]"
          }
        },
        "71fd2392d4f24142bd311d2be28f630a": {
          "model_module": "@jupyter-widgets/base",
          "model_name": "LayoutModel",
          "model_module_version": "1.2.0",
          "state": {
            "_model_module": "@jupyter-widgets/base",
            "_model_module_version": "1.2.0",
            "_model_name": "LayoutModel",
            "_view_count": null,
            "_view_module": "@jupyter-widgets/base",
            "_view_module_version": "1.2.0",
            "_view_name": "LayoutView",
            "align_content": null,
            "align_items": null,
            "align_self": null,
            "border": null,
            "bottom": null,
            "display": null,
            "flex": null,
            "flex_flow": null,
            "grid_area": null,
            "grid_auto_columns": null,
            "grid_auto_flow": null,
            "grid_auto_rows": null,
            "grid_column": null,
            "grid_gap": null,
            "grid_row": null,
            "grid_template_areas": null,
            "grid_template_columns": null,
            "grid_template_rows": null,
            "height": null,
            "justify_content": null,
            "justify_items": null,
            "left": null,
            "margin": null,
            "max_height": null,
            "max_width": null,
            "min_height": null,
            "min_width": null,
            "object_fit": null,
            "object_position": null,
            "order": null,
            "overflow": null,
            "overflow_x": null,
            "overflow_y": null,
            "padding": null,
            "right": null,
            "top": null,
            "visibility": null,
            "width": null
          }
        },
        "9ab86b38aa684af783beeae072882a78": {
          "model_module": "@jupyter-widgets/base",
          "model_name": "LayoutModel",
          "model_module_version": "1.2.0",
          "state": {
            "_model_module": "@jupyter-widgets/base",
            "_model_module_version": "1.2.0",
            "_model_name": "LayoutModel",
            "_view_count": null,
            "_view_module": "@jupyter-widgets/base",
            "_view_module_version": "1.2.0",
            "_view_name": "LayoutView",
            "align_content": null,
            "align_items": null,
            "align_self": null,
            "border": null,
            "bottom": null,
            "display": null,
            "flex": null,
            "flex_flow": null,
            "grid_area": null,
            "grid_auto_columns": null,
            "grid_auto_flow": null,
            "grid_auto_rows": null,
            "grid_column": null,
            "grid_gap": null,
            "grid_row": null,
            "grid_template_areas": null,
            "grid_template_columns": null,
            "grid_template_rows": null,
            "height": null,
            "justify_content": null,
            "justify_items": null,
            "left": null,
            "margin": null,
            "max_height": null,
            "max_width": null,
            "min_height": null,
            "min_width": null,
            "object_fit": null,
            "object_position": null,
            "order": null,
            "overflow": null,
            "overflow_x": null,
            "overflow_y": null,
            "padding": null,
            "right": null,
            "top": null,
            "visibility": null,
            "width": null
          }
        },
        "cc99cb8f6d3545e692d361f29487276c": {
          "model_module": "@jupyter-widgets/controls",
          "model_name": "DescriptionStyleModel",
          "model_module_version": "1.5.0",
          "state": {
            "_model_module": "@jupyter-widgets/controls",
            "_model_module_version": "1.5.0",
            "_model_name": "DescriptionStyleModel",
            "_view_count": null,
            "_view_module": "@jupyter-widgets/base",
            "_view_module_version": "1.2.0",
            "_view_name": "StyleView",
            "description_width": ""
          }
        },
        "9be18936d9914a2bb45ade178fab7d68": {
          "model_module": "@jupyter-widgets/base",
          "model_name": "LayoutModel",
          "model_module_version": "1.2.0",
          "state": {
            "_model_module": "@jupyter-widgets/base",
            "_model_module_version": "1.2.0",
            "_model_name": "LayoutModel",
            "_view_count": null,
            "_view_module": "@jupyter-widgets/base",
            "_view_module_version": "1.2.0",
            "_view_name": "LayoutView",
            "align_content": null,
            "align_items": null,
            "align_self": null,
            "border": null,
            "bottom": null,
            "display": null,
            "flex": null,
            "flex_flow": null,
            "grid_area": null,
            "grid_auto_columns": null,
            "grid_auto_flow": null,
            "grid_auto_rows": null,
            "grid_column": null,
            "grid_gap": null,
            "grid_row": null,
            "grid_template_areas": null,
            "grid_template_columns": null,
            "grid_template_rows": null,
            "height": null,
            "justify_content": null,
            "justify_items": null,
            "left": null,
            "margin": null,
            "max_height": null,
            "max_width": null,
            "min_height": null,
            "min_width": null,
            "object_fit": null,
            "object_position": null,
            "order": null,
            "overflow": null,
            "overflow_x": null,
            "overflow_y": null,
            "padding": null,
            "right": null,
            "top": null,
            "visibility": null,
            "width": null
          }
        },
        "b9ce500058c64534ab9f8e6471b0a82e": {
          "model_module": "@jupyter-widgets/controls",
          "model_name": "ProgressStyleModel",
          "model_module_version": "1.5.0",
          "state": {
            "_model_module": "@jupyter-widgets/controls",
            "_model_module_version": "1.5.0",
            "_model_name": "ProgressStyleModel",
            "_view_count": null,
            "_view_module": "@jupyter-widgets/base",
            "_view_module_version": "1.2.0",
            "_view_name": "StyleView",
            "bar_color": null,
            "description_width": ""
          }
        },
        "1422d56eadbf451eb7eb1ad590f71121": {
          "model_module": "@jupyter-widgets/base",
          "model_name": "LayoutModel",
          "model_module_version": "1.2.0",
          "state": {
            "_model_module": "@jupyter-widgets/base",
            "_model_module_version": "1.2.0",
            "_model_name": "LayoutModel",
            "_view_count": null,
            "_view_module": "@jupyter-widgets/base",
            "_view_module_version": "1.2.0",
            "_view_name": "LayoutView",
            "align_content": null,
            "align_items": null,
            "align_self": null,
            "border": null,
            "bottom": null,
            "display": null,
            "flex": null,
            "flex_flow": null,
            "grid_area": null,
            "grid_auto_columns": null,
            "grid_auto_flow": null,
            "grid_auto_rows": null,
            "grid_column": null,
            "grid_gap": null,
            "grid_row": null,
            "grid_template_areas": null,
            "grid_template_columns": null,
            "grid_template_rows": null,
            "height": null,
            "justify_content": null,
            "justify_items": null,
            "left": null,
            "margin": null,
            "max_height": null,
            "max_width": null,
            "min_height": null,
            "min_width": null,
            "object_fit": null,
            "object_position": null,
            "order": null,
            "overflow": null,
            "overflow_x": null,
            "overflow_y": null,
            "padding": null,
            "right": null,
            "top": null,
            "visibility": null,
            "width": null
          }
        },
        "288db2feb9664fac8c22f6ff2a2ccac5": {
          "model_module": "@jupyter-widgets/controls",
          "model_name": "DescriptionStyleModel",
          "model_module_version": "1.5.0",
          "state": {
            "_model_module": "@jupyter-widgets/controls",
            "_model_module_version": "1.5.0",
            "_model_name": "DescriptionStyleModel",
            "_view_count": null,
            "_view_module": "@jupyter-widgets/base",
            "_view_module_version": "1.2.0",
            "_view_name": "StyleView",
            "description_width": ""
          }
        }
      }
    }
  },
  "cells": [
    {
      "cell_type": "markdown",
      "metadata": {
        "id": "view-in-github",
        "colab_type": "text"
      },
      "source": [
        "<a href=\"https://colab.research.google.com/github/jinwu99/Text-mining-and-Sentiment-analysis/blob/main/Sentiment%20Analysis/Youtube_comment_analysis.ipynb\" target=\"_parent\"><img src=\"https://colab.research.google.com/assets/colab-badge.svg\" alt=\"Open In Colab\"/></a>"
      ]
    },
    {
      "cell_type": "code",
      "execution_count": null,
      "metadata": {
        "colab": {
          "base_uri": "https://localhost:8080/"
        },
        "id": "alHp9GT1YhpM",
        "outputId": "ac6ac45a-8f59-4fb8-8b3e-03b86a990b66"
      },
      "outputs": [
        {
          "output_type": "stream",
          "name": "stdout",
          "text": [
            "Mounted at ./MyDrive\n"
          ]
        }
      ],
      "source": [
        "from google.colab import drive\n",
        "drive.mount('./MyDrive')"
      ]
    },
    {
      "cell_type": "code",
      "source": [
        "cd MyDrive/My Drive/Colab Notebooks"
      ],
      "metadata": {
        "colab": {
          "base_uri": "https://localhost:8080/"
        },
        "id": "pakyNc-HfoaE",
        "outputId": "4ee9dba6-1c42-472a-a5c9-94b2028b35e1"
      },
      "execution_count": null,
      "outputs": [
        {
          "output_type": "stream",
          "name": "stdout",
          "text": [
            "/content/MyDrive/My Drive/Colab Notebooks\n"
          ]
        }
      ]
    },
    {
      "cell_type": "markdown",
      "source": [
        "#가설검증\n",
        "병자호란이 대중에게 정말 부정적으로 인식되는가.\n",
        "* 영화처럼 주관적 매체가 아닌, 역사강의처럼 객관적 매체를 통한 검증"
      ],
      "metadata": {
        "id": "xz0aBSNphanW"
      }
    },
    {
      "cell_type": "code",
      "source": [
        "import pandas as pd\n",
        "\n",
        "youtube = pd.read_csv('Youtube_review.csv').dropna(axis=0)\n",
        "train_list = youtube['review'].tolist()\n",
        "train_list[:5]"
      ],
      "metadata": {
        "colab": {
          "base_uri": "https://localhost:8080/"
        },
        "id": "lBTuKI_xf4o9",
        "outputId": "be5afa4e-d15b-44d0-897d-7cc2493f66e2"
      },
      "execution_count": null,
      "outputs": [
        {
          "output_type": "execute_result",
          "data": {
            "text/plain": [
              "['첨부터 끝까지 잘봤습니다.<br>차분하게 소개해 주시고 역사자료를 통하여 인물들의 성향을 이해하기 쉽게 해석해 주셔서 참 좋았어요',\n",
              " '지도자 답지  않은 놈들은 바로바로 처단해야 된다.\\n항상\\n개돼지들만 피해',\n",
              " '우리 역사는 항상 병자호란처럼 사후약방문이 됩니다. 시청\\n하는 내내 모멸감,굴욕감 때문에 수치스러워서 감당하기이를데  없었습니다. 탁상공론과\\n정당화하려는 김상헌과 김류등 안봐도 액션스텐스 취하는데 혀가 내둘립니다. 평소 김상헌을 깊이 존경하였는데 이제부터 최명길의 실리외교를\\n신봉하게 되었습니다.오월동주,와신상담사자성어가 떠오릅니다.영상 고맙게 잘 시청했습니다.',\n",
              " '현실적 vs  비현실적\\n친미 vs 미군철수\\n역사는  반복된다',\n",
              " '조선은 이때 망하고 새 왕조가 들어 섰어야한다']"
            ]
          },
          "metadata": {},
          "execution_count": 3
        }
      ]
    },
    {
      "cell_type": "markdown",
      "source": [
        "#데이터분석 계획\n",
        "1. 유튜브 역사강의 댓글 특징 :\n",
        "    * 채널주인 평가, 역사 평가, 현재를 돌아보는 등 다양한 문맥을 가짐.\n",
        "    * 따라서 클러스터링으로 문맥을 나누고 역사 관련 문맥만 추출.\n",
        "\n",
        "2. 문맥에 따라 클러스터링하기 위해 - 문장을 비슷한 문맥끼리 가깝게 임베딩해주는 SBERT 활용.\n",
        "3. 클러스터링 이후에 각 클러스터별로 Topic 추출하여 역사문맥 클러스터 구분\n",
        "4. 세부적인 내용도 함께 파악하기 위해 GPT(ChatGPT)로 요약."
      ],
      "metadata": {
        "id": "KuK6fwt8oTib"
      }
    },
    {
      "cell_type": "markdown",
      "source": [
        "## SBERT embedding"
      ],
      "metadata": {
        "id": "Vdjgy6MWkK4Z"
      }
    },
    {
      "cell_type": "code",
      "source": [
        "!pip install sentence_transformers"
      ],
      "metadata": {
        "id": "Ysw8IrlEhVj1"
      },
      "execution_count": null,
      "outputs": []
    },
    {
      "cell_type": "code",
      "source": [
        "import numpy as np\n",
        "from sentence_transformers import SentenceTransformer\n",
        "import torch\n",
        "\n",
        "model = SentenceTransformer(\"jhgan/ko-sroberta-multitask\")\n",
        "model.to('cuda') # 빠른 임베딩 시키자.\n",
        "\n",
        "with torch.no_grad():\n",
        "    document_embeddings = model.encode(train_list, convert_to_tensor=True)\n",
        "document_embeddings = document_embeddings.to('cpu').numpy()\n",
        "print(document_embeddings.shape)\n",
        "\n",
        "np.save('sentence_embeddings_only_youtube', document_embeddings)"
      ],
      "metadata": {
        "id": "fNwuQ5S5hVrE"
      },
      "execution_count": null,
      "outputs": []
    },
    {
      "cell_type": "code",
      "source": [
        "document_embeddings = np.load('sentence_embeddings_only_youtube.npy')"
      ],
      "metadata": {
        "id": "QHarfex5hVw8"
      },
      "execution_count": null,
      "outputs": []
    },
    {
      "cell_type": "markdown",
      "source": [
        "## Clustering\n",
        "* Cosine Similarity기반으로 임베딩된 댓글들의 유사도 측정\n",
        "* 아웃라이어에 강건하면서 비유클리디안 기반 거리에 활용 가능한 K-medoids clustering활용\n",
        "* Silhouette 점수 기반으로 최적의 클러스터수 결정"
      ],
      "metadata": {
        "id": "5LF0NSYRkaxT"
      }
    },
    {
      "cell_type": "code",
      "source": [
        "!pip install scikit-learn-extra"
      ],
      "metadata": {
        "id": "aNqkQfRokHPr"
      },
      "execution_count": null,
      "outputs": []
    },
    {
      "cell_type": "code",
      "source": [
        "from sklearn_extra.cluster import KMedoids\n",
        "from sklearn.metrics import silhouette_score\n",
        "import matplotlib.pyplot as plt\n",
        "\n",
        "silh = []\n",
        "for k in range(2,8):\n",
        "    kmedoids = KMedoids(n_clusters=k, random_state=0, metric='cosine')\n",
        "    cluster_labels = kmedoids.fit_predict(document_embeddings)\n",
        "    silhoutte = silhouette_score(document_embeddings, cluster_labels, metric='cosine')\n",
        "    silh.append(silhoutte)\n",
        "\n",
        "plt.figure(figsize=(3,2.5))\n",
        "plt.plot([2,3,4,5,6,7],np.round(silh,2))\n",
        "plt.xlabel('Number of Clusters',fontdict={'size': 14})\n",
        "plt.ylabel('Silhoutte Score',fontdict={'size': 14})"
      ],
      "metadata": {
        "colab": {
          "base_uri": "https://localhost:8080/",
          "height": 295
        },
        "id": "73Yqj5jxltcl",
        "outputId": "ef3cb89c-a599-46ca-9ff8-134c8079fa6c"
      },
      "execution_count": null,
      "outputs": [
        {
          "output_type": "execute_result",
          "data": {
            "text/plain": [
              "Text(0, 0.5, 'Silhoutte Score')"
            ]
          },
          "metadata": {},
          "execution_count": 6
        },
        {
          "output_type": "display_data",
          "data": {
            "text/plain": [
              "<Figure size 300x250 with 1 Axes>"
            ],
            "image/png": "[encoded data removed]"
          },
          "metadata": {}
        }
      ]
    },
    {
      "cell_type": "code",
      "source": [
        "best_k = 3\n",
        "kmedoids = KMedoids(n_clusters=best_k, metric='cosine', random_state=0)\n",
        "cluster_labels = kmedoids.fit_predict(document_embeddings)\n",
        "youtube['kmedoids'] = cluster_labels\n",
        "\n",
        "youtube.to_csv('Youtube_review.csv',\n",
        "               index=False,\n",
        "               encoding='utf-8-sig')"
      ],
      "metadata": {
        "id": "l5RrVgsnltfA"
      },
      "execution_count": null,
      "outputs": []
    },
    {
      "cell_type": "markdown",
      "source": [
        "## Topic 추출\n",
        "* 각 클러스터는 이미 문맥에 따라 묶였으므로 - 주제가 하나씩만 있다고 가정.\n",
        "* Latent Dirichlet Allocation(LDA)로 Topic 추출.\n",
        "* WordCloud 활용하여 시각화."
      ],
      "metadata": {
        "id": "6OOPhNJ1m3-s"
      }
    },
    {
      "cell_type": "code",
      "source": [
        "!pip install konlpy # 한국어를 처리하는 대표적인 형태소 분석 패키지"
      ],
      "metadata": {
        "colab": {
          "base_uri": "https://localhost:8080/"
        },
        "id": "wNnsSi91ltkw",
        "outputId": "ba6871b1-c0eb-4c18-8231-d18ccf58a6a1"
      },
      "execution_count": null,
      "outputs": [
        {
          "output_type": "stream",
          "name": "stdout",
          "text": [
            "Collecting konlpy\n",
            "  Downloading konlpy-0.6.0-py2.py3-none-any.whl (19.4 MB)\n",
            "\u001b[2K     \u001b[90m━━━━━━━━━━━━━━━━━━━━━━━━━━━━━━━━━━━━━━━━\u001b[0m \u001b[32m19.4/19.4 MB\u001b[0m \u001b[31m67.1 MB/s\u001b[0m eta \u001b[36m0:00:00\u001b[0m\n",
            "\u001b[?25hCollecting JPype1>=0.7.0 (from konlpy)\n",
            "  Downloading JPype1-1.4.1-cp310-cp310-manylinux_2_12_x86_64.manylinux2010_x86_64.whl (465 kB)\n",
            "\u001b[2K     \u001b[90m━━━━━━━━━━━━━━━━━━━━━━━━━━━━━━━━━━━━━━━━\u001b[0m \u001b[32m465.3/465.3 kB\u001b[0m \u001b[31m36.4 MB/s\u001b[0m eta \u001b[36m0:00:00\u001b[0m\n",
            "\u001b[?25hRequirement already satisfied: lxml>=4.1.0 in /usr/local/lib/python3.10/dist-packages (from konlpy) (4.9.3)\n",
            "Requirement already satisfied: numpy>=1.6 in /usr/local/lib/python3.10/dist-packages (from konlpy) (1.23.5)\n",
            "Requirement already satisfied: packaging in /usr/local/lib/python3.10/dist-packages (from JPype1>=0.7.0->konlpy) (23.2)\n",
            "Installing collected packages: JPype1, konlpy\n",
            "Successfully installed JPype1-1.4.1 konlpy-0.6.0\n"
          ]
        }
      ]
    },
    {
      "cell_type": "code",
      "source": [
        "from konlpy.tag import *\n",
        "okt = Okt()\n",
        "\n",
        "tokenized_doc = [okt.pos(corp, norm=True, stem=True) for corp in train_list]\n",
        "tokenized_doc = [[word[0] for word in doc if word[1] in ['Noun','Verb','Adjective']] for doc in tokenized_doc]\n",
        "tokenized_doc = [[n for n in corp if len(n) > 1] for corp in tokenized_doc]\n",
        "\n",
        "# 불용어 처리\n",
        "stopwords = ['하다','이다','보다','있다','되다','먹다','같다','많다','되어다','않다','해주다','없다']\n",
        "tokenized_doc = [[word for word in corp if not word in stopwords] for corp in tokenized_doc]\n",
        "\n",
        "np.save('tokenized_morphs_youtube', np.array(tokenized_doc))"
      ],
      "metadata": {
        "colab": {
          "base_uri": "https://localhost:8080/"
        },
        "id": "z9CqQ93LpCS1",
        "outputId": "cd1775a1-742a-48b5-f73a-549ad59c3289"
      },
      "execution_count": null,
      "outputs": [
        {
          "output_type": "stream",
          "name": "stderr",
          "text": [
            "<ipython-input-14-dfd41407f592>:12: VisibleDeprecationWarning: Creating an ndarray from ragged nested sequences (which is a list-or-tuple of lists-or-tuples-or ndarrays with different lengths or shapes) is deprecated. If you meant to do this, you must specify 'dtype=object' when creating the ndarray.\n",
            "  np.save('tokenized_morphs_youtube', np.array(tokenized_doc))\n"
          ]
        }
      ]
    },
    {
      "cell_type": "code",
      "source": [
        "from gensim import corpora\n",
        "from gensim.models import LdaModel\n",
        "\n",
        "tokenized_doc = np.load('tokenized_morphs_youtube.npy', allow_pickle=True)\n",
        "\n",
        "# 각 클러스터별 토큰화된 단어들 나눠주기\n",
        "doc_clusts = [np.array(tokenized_doc)[youtube['kmedoids']==k,].tolist()\n",
        "              for k in range(best_k)]\n",
        "\n",
        "# 각 클러스터별 정수인코딩 객체\n",
        "dic_clusts = [corpora.Dictionary(doc_clust)\n",
        "              for doc_clust in doc_clusts]\n",
        "\n",
        "# 각 클러스터별 각 토큰들을 정수인코딩\n",
        "corp_clusts = [[dic_clusts[k].doc2bow(text) for text in doc_clusts[k]]\n",
        "               for k in range(3)]\n",
        "\n",
        "best_ks = [1,1,1]\n",
        "\n",
        "# 각 클러스터별로 LDA 돌리기\n",
        "lda_models = [LdaModel(corp_clusts[k], num_topics=best_ks[k], id2word=dic_clusts[k], passes=15)\n",
        "              for k in range(3)]"
      ],
      "metadata": {
        "id": "9WS8gdKppXb9"
      },
      "execution_count": null,
      "outputs": []
    },
    {
      "cell_type": "code",
      "source": [
        "# Pythohn Plot에 한글 표시하기 위해 한글폰트를 다운받아야함\n",
        "!apt-get update -qq\n",
        "!apt-get install fonts-nanum* -qq"
      ],
      "metadata": {
        "id": "JW-hWiibpXet"
      },
      "execution_count": null,
      "outputs": []
    },
    {
      "cell_type": "code",
      "source": [
        "import matplotlib.font_manager as fm\n",
        "from wordcloud import WordCloud\n",
        "\n",
        "fe = fm.FontEntry(\n",
        "    fname=r'/usr/share/fonts/truetype/nanum/NanumGothic.ttf',\n",
        "    name='NanumGothic')\n",
        "fm.fontManager.ttflist.insert(0, fe)              # Matplotlib에 폰트 추가\n",
        "plt.rcParams.update({'font.size': 18, 'font.family': 'NanumGothic'}) # 폰트 설정\n",
        "path = '/usr/share/fonts/truetype/nanum/NanumGothic.ttf'\n",
        "\n",
        "# Plot the word cloud\n",
        "fig, axs = plt.subplots(1,3,figsize=(15,4))\n",
        "for topic_id in range(best_k):\n",
        "    # Get the top words for the topic\n",
        "    topic_words = lda_models[topic_id].show_topic(topicid=0,topn=100)\n",
        "    wordcloud_dict = {word: prob for word, prob in topic_words}\n",
        "\n",
        "    # Create the word cloud\n",
        "    wordcloud = WordCloud(font_path=path, width=800, height=400,\n",
        "                        background_color='white').generate_from_frequencies(wordcloud_dict)\n",
        "\n",
        "    axs[topic_id].imshow(wordcloud,interpolation='bilinear')\n",
        "    axs[topic_id].set_title(f\"Topic {topic_id+1}\")\n",
        "    axs[topic_id].axis('off')"
      ],
      "metadata": {
        "colab": {
          "base_uri": "https://localhost:8080/",
          "height": 258
        },
        "id": "ynjztiCYqvL0",
        "outputId": "9c7f4a95-7a1f-45bf-cae3-995c270367d7"
      },
      "execution_count": null,
      "outputs": [
        {
          "output_type": "display_data",
          "data": {
            "text/plain": [
              "<Figure size 1500x400 with 3 Axes>"
            ],
            "image/png": "[encoded data removed]"
          },
          "metadata": {}
        }
      ]
    },
    {
      "cell_type": "markdown",
      "source": [
        "Topic 1 : 채널주인에 대한 평가 \\\n",
        "Topic 2 : 역사를 통해 현재 정세를 돌아봄 \\\n",
        "Topic 3 : 역사 평가 \\\n",
        "따라서 Topic 2와 Topic 3를 집중적으로 세부내용 조사"
      ],
      "metadata": {
        "id": "5kOqvjHCtX7s"
      }
    },
    {
      "cell_type": "markdown",
      "source": [
        "##ChatGPT활용한 세부내용 파악\n",
        "* 각 클러스터별로 텍스트를 복사하여 ChatGPT로 내용 요약요청.\n",
        "* 그러나 인풋으로 넣을 수 있는 토큰 길이가 4096로 제한됨.\n",
        "    * Option 1 : 각 클러스터의 글을 인풋 가능한 길이의 여러개로 나누어 GPT입력\n",
        "        * 그러나 Python으로 API사용시 돈이 필요함.\n",
        "    * Option 2 : BART로 글을 요약하여 토큰 길이를 줄이고 GPT입력\n",
        "        * 돈이 필요하지 않으나 SBART 또한 인풋 길이 제한으로,  인풋 가능한 길이의 여러개로 나누어 SBART입력.\n",
        "        * SBART요약만으로는 가독성이 좋지 않아서 GPT로 다시 refine해달라 요청."
      ],
      "metadata": {
        "id": "qegSTEyst9Do"
      }
    },
    {
      "cell_type": "markdown",
      "source": [
        "###각 역사 인물에 대한 평가\n",
        "* 클러스터3에서 남한산성 대표 인물인 '인조', '최명길', '김상헌'을 언급한 댓글들만 추출하여 세부내용 파악"
      ],
      "metadata": {
        "id": "IAuHsLaE8oPR"
      }
    },
    {
      "cell_type": "code",
      "source": [
        "import re\n",
        "import numpy as np\n",
        "\n",
        "youtube_review = youtube['review'].tolist()\n",
        "youtube_clusts = [np.array(youtube_review)[youtube['kmedoids']==k,].tolist()\n",
        "                for k in range(3)]\n",
        "\n",
        "# 한글 빼고 다 지우기.\n",
        "youtube_clusts = [[re.sub(r\"[^ㄱ-ㅣ가-힣\\s]\", \"\", doc) for doc in youtube_clust] for youtube_clust in youtube_clusts]\n",
        "# 개행도 다 지우기.\n",
        "youtube_clusts = [[''.join(doc.splitlines()) for doc in youtube_clust] for youtube_clust in youtube_clusts]"
      ],
      "metadata": {
        "id": "jWnc9-qfrPlF"
      },
      "execution_count": null,
      "outputs": []
    },
    {
      "cell_type": "code",
      "source": [
        "# 먼저 김상헌에 대한 댓글들 추출 및 댓글들 길이 확인\n",
        "Kim_Sang_youtube_lst = [doc for doc in youtube_clusts[2] if '김상헌' in doc]\n",
        "Kim_Sang_youtube = ' '.join(Kim_Sang_youtube_lst)\n",
        "print(len(Kim_Sang_youtube))\n",
        "Kim_Sang_youtube"
      ],
      "metadata": {
        "colab": {
          "base_uri": "https://localhost:8080/",
          "height": 199
        },
        "id": "Ya3dkc3QxxJ0",
        "outputId": "f8436460-63b2-41de-99aa-5296508af27c"
      },
      "execution_count": null,
      "outputs": [
        {
          "output_type": "stream",
          "name": "stdout",
          "text": [
            "2004\n"
          ]
        },
        {
          "output_type": "execute_result",
          "data": {
            "text/plain": [
              "'인조는 그렇다 치고김상헌 이놈은 우파 인데  왜 전쟁터 안나가는거냐  ㅎㅎㅎ 인조나 김상헌 같은 조선대신들이 외교에서 얼마나 무능하고 어리석었는지 안타깝네요 죽을라고   맘만 먹고 아무도 안보는데서 분만 목매달면  얼마든지 죽을 수 있을텐데  절개있는 선비인 척  굳이 가족들이 보는 앞에서 목을  매달려고 했던 위선자 김상헌그 당시  상황을 연출하면  이랬다는 거 아닙니까   김상헌이  가족들이 보는 앞에서  목매달면서  왈  에잇  이 애비는  원통해서 자결하련다  라고 목매달려고 하니  자식들 왈  아버님  이러시면 아니되옵니다 라고  육갑지랄들 떨었다는 거 아닙니까    기가 막혀서  웃음만 나옵니다 전쟁이 나면 군량미는 어떻게 조달할지   군사들은 어떻게 훈련시키고  모집할 지   병장기는 어떻게 조달할 지  구체적인  실행계획  실천계획은 없이오직 주둥아리만 살아 있던 조선시대  사대부 무지랭이들 그 중심에  위선자 김상헌같은 안동김씨등  세상이 어떻게 돌아가는지  무식했던 사대부들이 있었습니다 명쾌한   해설 감사합니다  호란 가장 큰 책임은 인조   그리고 김상헌을 비롯한 현실을 외면한 자들유생들은 최명길에  침을 밷고송시열은 최명길은 소인배   김상헌은 대로라고  흥선대원군이나 대로라는  극존칭을 받았지요    김상헌의 직계후손이 순조 헌종 철종비가 되지요  안동 김씨의 세도정치  매관매직이 쓰러져가는  조선의 운명을 앞당긴거지요 김상헌은 스스로 자결하지도 못했고 그 후손들이 노론이 되어 나라를 절단냈으니 참으로 더러운 놈이다 김상헌은 일본의 스파이였다 이건진짜 온 국민이 봐야할듯 영화보다 더 실감나네요인조를보니 저시대 왕도 참 힘들었겠다 싶네요 지금의 잣대가아닌 저시대의 잣대였다면 김상헌도 나름 이해가 되긴하네요 그렇지만 최명길이 저 시대에 있었다란건 조선과 지금의 대한민국에는 행운 인조가 현명 했다고 봐야지 척화파 김상헌이 그런놈 말듣고 최명길이 참수했으면 조선 국호는 없어졌지 탤런트 최명길도 없었을테고 ㅎ 그렇다고 목숨도 내놓지 못한 김상헌 후손은 세도정치로 망국에 일조 임금이 되어 백성을 버렸으니 임금도 아니다아비가 되어 자식을 버렸으니 아비도 아니다김상헌 등 꼴통 쉐이들은 왜 조선의 신하가 되어 백성들을 잘살게 할 생각은 안하고 명나라 황제의 안위에만 관심이 있었으니 같은 조선인이 아나고 명나라 사람인 듯합니다 김상헌 이런 자는 아예 없느니만 못한 넘이다 화부터 화까지 보면서 우유부단한 왕과대책도 없으면서 명분과 사대주의에만 사로잡힌 김상헌과 기타등등 신하들의 디너지를 보며답답해서 미칠것만 같았습니다 인조하면 자동으로 따라오는 삼배구고두례는 자업자득입니다  후에 의문스런 소현세자의 죽음과 세자빈 강씨를 사사하고손주들을 유배보내는 등의 일들은 아무리 생각해도 이해가 가지 않는 제 기준으로 조선역사에서 제일 맘에 들지 않는 임금으로 손꼽힙니다 실력도 없고 죽지도 못한 김상헌이 결국 허명만 얻고  그 후손들이 나라를 망쳤다 최명길 김상헌 둘다 말이맞는말이라 누굴택하긴힘들지만 김상헌말대로하고일버티지만 결국최명길말대로 항복진짜 삼전도의굴욕 조선이 사실이때 망했어야된다 우크라이나 전쟁이 그 대통령이 영웅이 맟는가 김상헌 그는 백성을 생각한 인간이가 영화에선 김상헌 자살ㅋㅋㅋ실제로는 죽지도 않았고 자살시도도 연극이었습니다 주전파들이 실제로는 어떤 넘들이 적나라하게 보여줌 ㅋㅋㅋ 지금도 북한만 보면 싸우는 자는 사람들 실제로는 대부분 안 도망가면 다행 김상헌은 왜 안죽였을까요 영상 만드시라 수고했습니다인조가 그 와중에 제사지내는 것보니 할말이 없군요저도 아주 옛날 학창시절  김상헌 그리고 윤집등 삼학사들에게 호감있게 교육받았는데 지금와 생각하니 어리석은 군주와 고집센 성리학자들로 인해 백성들만 도탄해 빠진 것보니 어느 한쪽이 옳다고만 할 수없군요 항쟁이라기보다 그냥 농성이었습니다 용렬한 임금 인조는 이 치욕이후로도 왕노릇하다 천수를 누렸지요 그 후손들은 대대손손 왕위를 계승하며 조선이 망할 때까지 호사를 누렸고 김상헌의 자손들 또한 명문가 대접받으며 살아남았습니다 그에 반해 최명길의 후손들은 역사에서 사라졌습니다'"
            ],
            "application/vnd.google.colaboratory.intrinsic+json": {
              "type": "string"
            }
          },
          "metadata": {},
          "execution_count": 8
        }
      ]
    },
    {
      "cell_type": "code",
      "source": [
        "# ChatGPT에 충분히 입력할 수 있는 분량.\n",
        "# 아래는 ChatGPT요약한 내용 :\n",
        "Kim_Sang_youtube_chatgpt = ['김상헌에 대한 댓글들은 주로 부정적인 내용으로, 그의 무능함과 어리석음을 비판하며 전쟁 상황에서의 무능함, 외교적 무지, 위선적 행동 등을 지적하고 있습니다. 김상헌의 후손들에 대해서도 나쁜 평가를 내리며, 조선의 신하로서의 책임과 백성들에 대한 무관심을 비판하는 목소리가 많습니다. 그의 역사적 역할에 대한 의문과 비판, 그리고 김상헌을 통해 조선시대의 사회적 현실을 비판하는 댓글들도 있습니다. 대체로 그의 역사적 기여와 신하로서의 역할을 부정적으로 평가하는 댓글들이 주를 이루고 있습니다.']"
      ],
      "metadata": {
        "id": "SI0TnAWnxxLu"
      },
      "execution_count": null,
      "outputs": []
    },
    {
      "cell_type": "code",
      "source": [
        "# 최명길에 대한 댓글들 추출 및 댓글들 길이 확인\n",
        "Choi_Myeong_youtube_lst = [doc for doc in youtube_clusts[2] if '최명길' in doc]\n",
        "Choi_Myeong_youtube = ' '.join(Choi_Myeong_youtube_lst)\n",
        "print(len(Choi_Myeong_youtube))\n",
        "Choi_Myeong_youtube"
      ],
      "metadata": {
        "colab": {
          "base_uri": "https://localhost:8080/",
          "height": 199
        },
        "id": "Si6NLFIA-Nv3",
        "outputId": "d42b039a-9aa6-434f-a5eb-23586a9ae946"
      },
      "execution_count": null,
      "outputs": [
        {
          "output_type": "stream",
          "name": "stdout",
          "text": [
            "2357\n"
          ]
        },
        {
          "output_type": "execute_result",
          "data": {
            "text/plain": [
              "'최명길은  훌륭한 신하였습니다 사학도님 병자호란 의 진실을 알려면 최명길 을 키우고 가르친 장만장군 부터 알려주세요 장만장군 은 최명길 의 장인으로서 광해 의 중립외교와 전략을 직접 만든 인물입니다 장만장군   검색해 주세요 명쾌한   해설 감사합니다  호란 가장 큰 책임은 인조   그리고 김상헌을 비롯한 현실을 외면한 자들유생들은 최명길에  침을 밷고송시열은 최명길은 소인배   김상헌은 대로라고  흥선대원군이나 대로라는  극존칭을 받았지요    김상헌의 직계후손이 순조 헌종 철종비가 되지요  안동 김씨의 세도정치  매관매직이 쓰러져가는  조선의 운명을 앞당긴거지요 최명길은 사직 을 하고 온 조정이 탄핵하고  쫓겨남 최명길 ㅡㅡ  살펴야합니다   하루아침에 적의 기마병이몰려오고  파천을 하게되는 날이 오면  어떻 압록 강이  얼면  청나라기마부대가 그위로 달려오면  어떡  최명길의 이러한 말이  안먹히고 나라가 망하더라도  의리를 지키자고  라 라 ㅡㅡ하였던 조정  개월 뒤에   전쟁이 실재로 나고 지금이야 결과를 아니깐 최명길이 맞는것 같지 저당시에 명이 이길지 청이 이길지 알수가 없는 상황인게 그당시 현실인거고 왜란때 명나라의 도움을 받은 사실을 외면한다면 그것 또한 비열한 선택이라는 오명을 얻게 되는것 지금에 와서 뭐가 옳고 그른지 따지는것은 아무 의미가 없다 그때 그랬어야 했었다 라고 할수있는건 결과를 알기 때문일뿐이다멍청하다 무능하다라고 비난할 필요도 없다 최명길 진짜 존나 답답했겠다 어후 이건진짜 온 국민이 봐야할듯 영화보다 더 실감나네요인조를보니 저시대 왕도 참 힘들었겠다 싶네요 지금의 잣대가아닌 저시대의 잣대였다면 김상헌도 나름 이해가 되긴하네요 그렇지만 최명길이 저 시대에 있었다란건 조선과 지금의 대한민국에는 행운 광해군이 최명길이 됨 ㅋㅋ 조선은 최명길 이 살린게 맞다  광해때 잘하지  인조가 현명 했다고 봐야지 척화파 김상헌이 그런놈 말듣고 최명길이 참수했으면 조선 국호는 없어졌지 탤런트 최명길도 없었을테고 ㅎ 조선이 믿는 것은 오로지 하늘뿐입니다최명길이 없었다면 아마도 조선국왕은 옛적송나라 휘종과 흠종처럼 끌려가서 웃통을벗기고 채찍질을 당했을 것입니다더욱 중요한 것은 조선의 신민은 모두 노예가되어 다시는 나라를 세우지 못했을 것입니다 진짜 최명길이 대단하다는 생각만 듭니다 조정은 정말 한심 그 자체네요 최명길은 인조가 죽도록 놔두었어야 했다그럼 조선은 더 좋은 쪽으로 결과를 낳아을 것 만고의 충신 최명길이 조선 정계에서 년 가까이 매국노 소리를 들었다고 하는데 세기 말 국가의 성장 동력이 완전히 꺼진채 외세에 의해 강제 개화를 맞이한 조선의 답답한 한계를 년 선행해서 함축적으로 보여주는 사건이 병자호란 같습니다 귀한 영상 참 감사합니다목소리가 약간 이상하네요건강에 유의하세요최명길 같은 지혜로운 분이 계셔서 위태로웠지만 지금의 대한민국이 건재하고 있음에 무한 감사드립니다뒷늦게라도 인조가 최명길의 말에 귀기울이고 뜻을 함께해서 정말 다행이다 인조가 최명길의 충언을 선택한것이 백성을 구한것 같습니다언제나 자세한 설명 으뜸 입니다 광해군이 최명길로 환생해 복수하는 건가요 중국과 조선의 수치스러운 주종관계는 삼전도의 치욕에서 시작된 것이 아니라 이성계가 명나라에 가서 머리를 조아리면서 조선의 왕을 시켜주면 속국이 되겠나이다하고 자진해서 중국에게 나라를 바치고 그 덕에 왕관하나를 얻어쓴데서 시작한 것이며 망해가는 명나라 황제의 낡은 곤룡포 자락을 붙들고 늘어지면서 오로지 자기 집안을 조선의 왕가로 만들어 준 명에 대한 충성심만 강조하다가 당한 일이다청과의 화친을 주장한 최명길이나 명과 청을 두고 대등한 외교를 펼치면서 옛날 고려시대 남쪽으로 찌그러져 있던 송과 북쪽의 요나라나 금나라 등과 등고리 외교를 펼치면서 국가의 자주권을 지켰던 시절로 조선의 국격을 되돌리려 했던 광해군 등은 변해가는 세계정세에 제대로 적응 하려 했던 사람이었지만 못나빠진 조선판 수구꼴통들은 이러한 변화가 당장 자기들의 하루살이 같은 그 기득권이 위협받는 것이 싫어서 정변을 일으키고 인조를 내세웠다가 결국 몇년 못가 저 꼬라지가 된 것이다 최명길 김상헌 둘다 말이맞는말이라 누굴택하긴힘들지만 김상헌말대로하고일버티지만 결국최명길말대로 항복진짜 삼전도의굴욕 조선이 사실이때 망했어야된다 최명길이가 왜 나쁘게나옵니까 영화에서 사실은 그게 아닌데말이죠 안되는건 아닌건데 왜 억지로 백성들을 사지로 내몹니까 후일을 도모하면 되지요 최명길은 간에 붙엇다 쓸개에 붙엇다 광해군과 최명길이 동일인물이라 지혜롭네요 항쟁이라기보다 그냥 농성이었습니다 용렬한 임금 인조는 이 치욕이후로도 왕노릇하다 천수를 누렸지요 그 후손들은 대대손손 왕위를 계승하며 조선이 망할 때까지 호사를 누렸고 김상헌의 자손들 또한 명문가 대접받으며 살아남았습니다 그에 반해 최명길의 후손들은 역사에서 사라졌습니다'"
            ],
            "application/vnd.google.colaboratory.intrinsic+json": {
              "type": "string"
            }
          },
          "metadata": {},
          "execution_count": 11
        }
      ]
    },
    {
      "cell_type": "code",
      "source": [
        "# ChatGPT에 충분히 입력할 수 있는 분량.\n",
        "# 아래는 ChatGPT요약한 내용 :\n",
        "Choi_Myeong_youtube_chatgpt = ['최명길에 대한 댓글들은 전반적으로 긍정적인 분위기를 띠고 있으며, 그의 충성심을 인정하고 지혜를 칭찬하는 내용이 많습니다. 병자호란과 같은 중요한 역사 사건에서의 역할을 인정하며, 조선의 미래를 더 나은 방향으로 이끌 수 있는 그의 통찰력을 존경하는 목소리가 있습니다. 몇몇 댓글들은 그 시대의 복잡성을 고려하여, 최명길과 같은 지도자들이 직면한 어려움과 역사적 결과의 불확실성을 언급하고 있습니다. 전반적으로 그의 지혜와 조선 역사에 대한 기여에 대한 감사함이 느껴집니다.']"
      ],
      "metadata": {
        "id": "p2yo3Fhb-Nyf"
      },
      "execution_count": null,
      "outputs": []
    },
    {
      "cell_type": "code",
      "source": [
        "# 인조에 대한 댓글들 추출 및 댓글들 길이 확인\n",
        "In_Jo_youtube_lst = [doc for doc in youtube_clusts[2] if '인조' in doc]\n",
        "In_Jo_youtube = ' '.join(In_Jo_youtube_lst)\n",
        "print(len(In_Jo_youtube))\n",
        "In_Jo_youtube"
      ],
      "metadata": {
        "colab": {
          "base_uri": "https://localhost:8080/",
          "height": 199
        },
        "id": "Csm-FQOh-N0z",
        "outputId": "74062748-e739-4fc0-eca6-dfbc7892b3f5"
      },
      "execution_count": null,
      "outputs": [
        {
          "output_type": "stream",
          "name": "stdout",
          "text": [
            "23717\n"
          ]
        },
        {
          "output_type": "execute_result",
          "data": {
            "text/plain": [
              "'인조는 진짜 암군 중의 암군  아들들을 잘 둔 건 인정 호부견자가 아니고 견부호자 인조는 무뇌인이었다그래서 백성믄 내팽개치고 혼자만 괜찮으면 된다는 사고방식을 가지고 있는 군왕이 어찌 군왕이 맞겠는가 인조는 그렇다 치고김상헌 이놈은 우파 인데  왜 전쟁터 안나가는거냐  ㅎㅎㅎ 역사는 돌고돈다 저당시를 지금에비하면 명나라는 미국이고 인조는 가카이시네ㅎㅎㅎㅎ 인조나 김상헌 같은 조선대신들이 외교에서 얼마나 무능하고 어리석었는지 안타깝네요  세상에 이런 쪼다가 어디있단 말인가 자기 자신은 무서우니 자식을 내보내려하다니 인조는 저때 붙잡혀가고 소현세자가 왕이 됐어야했다 무능하고 우유부단한 인조는 반정으로 광해군을 몰아내고 집권하는 과감성은 어디서 나왔을꼬실로 통탄할 일이로다 인조에 대해서 조금이나마동정이  가네요지금까지는 인조를 역대 왕들중제일무능하고 구차한목숨을살았다고 생각 했는데하여튼 보는내내 가슴이갑갑 하였습니다 명쾌한   해설 감사합니다  호란 가장 큰 책임은 인조   그리고 김상헌을 비롯한 현실을 외면한 자들유생들은 최명길에  침을 밷고송시열은 최명길은 소인배   김상헌은 대로라고  흥선대원군이나 대로라는  극존칭을 받았지요    김상헌의 직계후손이 순조 헌종 철종비가 되지요  안동 김씨의 세도정치  매관매직이 쓰러져가는  조선의 운명을 앞당긴거지요 인조패거리들은 건방지고 오만하고 무식한 수구꼴통 국짐당 스럽다 애초에 인조라는 임금이 꽝이지명나라 모시다가 당하기나하고광해군이 참 안됬찌 인조반정 을 한 뒤라서  백성들의 민심이  왕에게  올 일은 없을듯  광해군 은 좀 알지만 ㅡㅡㅡ인 조는 민심은 바랄수 없는 상황 인데다가  그야말 로  최악의 상황이네요 인조 의말이 구구절절이  바른 말이고 입장을 분명히 했네요  ㅎㅎㅎ 외교공부 다시해라 아군끼리 싸우는 멍청한  청치꾼들 인조반정으로 인조반정으로 정권 잡았지만  조선역사상 가장 무능하고 사악하고 비겁한 군주였다 그 밑의 부하들 그 나물에 그 밥 조선역사 민중들 후퇴시킨 가장 무능한 군주 쪼다 조선 최악의 임금 선조의 피를 그대로 이어 받은 찌질한 인조 후금 기병의 위력을 모르고 성산성으로 방어하려 한 후금 기병은 성산성을 우회하고 한양성으로 내달린 거 인조는 한양성 방어를 포기하고 도주하다 잡힌 선조의 아들이 광해군이고 광해군을 끌어내리고 반정으로 인조가 왕이 되었습니다태정태세문단세예성연중인명선  에서 인은 인종입니다 인조는 선대고 임진왜란선조 는 후대 입니다역사를 혼동하지 마시길 그때나 지금이나 현실파악 안되는 입바른 역신들은 넘침 멍청한 인조 똑똑했던 소현세자 결국은 죽여버림 지랄 최악 무능한 왕이 인조이다 아조반정으로 왕 되었지만 무능하고 외교적 사리도 못갖춘 정말 무능한 욍 청나라 홍타이지 정말 명석하고 관대하고 사려깊은 지도자다 내가 그 였다면 반드시 척화파 간신들을 모조리 참살하고 인조의 목을베어 광화문에 걸고 조선의 국호를 지워버렸을 것이다 애비 선조와 자식 인조두놈 궁형을 해야해들을 수록 답답하네 인조가 무능한줄 알았는데 사실 졸 현명하고 백성을 긍흘히 여기는 마음도 있었네 인조의 가장 위대한 점은 어쨋거나 나라를 안 망하게 하고 종사를 이어 지금 우리가 있다는 것임 개뿔도 없으면서  명을 숭배한 어처구니 없는 주자성리학을  배운 인조와 그졸개들이  자초한 란 입니다 인조의 현생은  정답삶은 소대가리 역대 최악의 임금이며 최악의 대령통  아 징글징글하다 현실을 직시하지못하는   무능한군주오락가락하는 인조 와   무능한신하들 이건진짜 온 국민이 봐야할듯 영화보다 더 실감나네요인조를보니 저시대 왕도 참 힘들었겠다 싶네요 지금의 잣대가아닌 저시대의 잣대였다면 김상헌도 나름 이해가 되긴하네요 그렇지만 최명길이 저 시대에 있었다란건 조선과 지금의 대한민국에는 행운 인조가 현명 했다고 봐야지 척화파 김상헌이 그런놈 말듣고 최명길이 참수했으면 조선 국호는 없어졌지 탤런트 최명길도 없었을테고 ㅎ 부 들으니 인조 와 척화파 놈들 촛때뼈 까고 싶습니다 무능한 인조와 당시 대신들의 근거없는 자신감 그리고 주변국의 흐름을 읽지 못하고 책 읽는거 외에는 할 줄 아는거란 아무거도 없는 한심한 양반이란 작자들광해군은  명나라와 청나라 사이에서 교묘하게 균형 외교 를 하면서 년간 전쟁없이 임진왜란으로 피폐해진 나라를 부흥 시키려고 노력했다  그랬던 광해군을 폐위시킨  인조반정 은 당초부터 잘못된 것이였다  인조가 즉위한지 년만에 정묘호란년 나라가 쑥대밭이 되었고 그럼에도 정신을 못차린 국왕과 대신들이  오로지 친명배금정책으로  말미암아 청나라의 심기를 건드렸고  정묘호란 년만에 또한번 나라를 곤경에 빠뜨린  병자호란년 을 당했고  그 치욕스런  배 고두례 를 당하게 된 인조는 선조와 더불어 우리 역사에 암군으로 길이길이 기억 될것이다  기록에 따르면임진왜란 년간의 피해보다병자호란 약 개월간의 피해가 더 컸었다고 전해진다 탁상공론으로 정묘호란 후 년을 설마하며 허송세월한 인조와 서인 앞으로 어찌해야 하는가라는 물음을 병자호란 년 전에 하지도 않고 현실을 부정한 어리석은 정치꾼들사학도님 핵심 사료를 편안하게 설명해주셔서 몰입감 쩝니다퀄리티 높은 영상 감사합니다 사학도님 차분하고 알찬 영상 감사합니다종묘가 끊어질 위기에 망궐례라 환장할 인조와 대신들의 콜라보 ㅠㅠ 정치하는 사람들이 무슨 사건 사고가 터지기 전에는 요란하다가 사건 사고가 터진 후에는 책임자를 만들어서 과감하게 버리려는 모양새가 예나 지금이나 똑같네요ㅎㅎ대책을 논의함에 있어서도 인조가 이랬다가 저랬다가 하면 중심을 바로 잡아주고 현실을 논하는 것이 신하의 도리인데 화친을 논할 땐 화친파에 섰다가 척화의 의지를 보이면 또 바로 그쪽으로 선회하는 모양새가 꼴불견이라고 생각합니다적은 날카로운 칼날로 사정 없이 들이닥치는데 스스로 싸우려고 나서기보다는 앉아서 형세만 논하면서 이랬다 저랬다가 하는 모습들을 자세히 알려주셔서 보고 있노라면 필패할 수 밖에 없었던 조정이었다는 생각을 하게 합니다 최명길은 인조가 죽도록 놔두었어야 했다그럼 조선은 더 좋은 쪽으로 결과를 낳아을 것 어쨌든 선조 인조 고종은 조선왕조 무능최악의 왕들임이들 왕은 쓸데없는 관념과 이념을 내세워 백성의 목숨을 내다 버렸음 귀한 영상 참 감사합니다목소리가 약간 이상하네요건강에 유의하세요최명길 같은 지혜로운 분이 계셔서 위태로웠지만 지금의 대한민국이 건재하고 있음에 무한 감사드립니다뒷늦게라도 인조가 최명길의 말에 귀기울이고 뜻을 함께해서 정말 다행이다 진짜 인조는 부관참시 해야지 속천불납니다 인조가 최명길의 충언을 선택한것이 백성을 구한것 같습니다언제나 자세한 설명 으뜸 입니다 인조 진짜 찌질하네요  아들까지 팔려고 조선 역사의 찌질이 국왕 명을 골르라고하면  선조   인조  고종이라고 할것이다 이 세명은 전쟁이나 국난에 대한 대처능력은 제외하더래도  형편없는 정치력으로  재앙을 자초함또한 그와중에도 여자는 존나 밝힘 인조 년 월 일 당시 대사간이었던 유백증이 인조에게 이럴꺼면 왜 반정을 하셨습니까라는 내용으로 상소합니다천재와 시변이 광해에 비하여 더욱 많고 흉년이 드는 일이 광해에 비하여 더욱 심하고 인심이 원망하고 능멸하는 일이 광해보다 더욱 깊으며 세 차례의 병화 이괄의 난 정묘호란 병자호란는 광해에게는 없고 전하께서는 당하였으니 장래의 환란이 필시 이 정도에서 그치지는 않을 것입니다 이렇다면 당초에 거의인조반정할 이유가 뭐가 있었겠습니까 들으면 들을 수록인조는 비겁한 자다광해를 내쫒고 왕이 되게 한 조정 모두가 다 벌 받은거지 인조보다는 상황 판단 도 안되면서 존심이나 챙기던 척화파들이 더 문제였습니다 참으로 모지리에 지질한  인조는 개인의 복수심으로 광해군을 몰아내고 나라와 백성에게 크나큰 시련을 안겨준 조선 최대의 폭군이었다고 봅니다 소현세자와 강비도 모자라 손자들까지 죽여버린 최대 악질이라고 봅니다 인조의 가족전체를 멸족시켰어야 했다 화부터 화까지 보면서 우유부단한 왕과대책도 없으면서 명분과 사대주의에만 사로잡힌 김상헌과 기타등등 신하들의 디너지를 보며답답해서 미칠것만 같았습니다 인조하면 자동으로 따라오는 삼배구고두례는 자업자득입니다  후에 의문스런 소현세자의 죽음과 세자빈 강씨를 사사하고손주들을 유배보내는 등의 일들은 아무리 생각해도 이해가 가지 않는 제 기준으로 조선역사에서 제일 맘에 들지 않는 임금으로 손꼽힙니다 중국과 조선의 수치스러운 주종관계는 삼전도의 치욕에서 시작된 것이 아니라 이성계가 명나라에 가서 머리를 조아리면서 조선의 왕을 시켜주면 속국이 되겠나이다하고 자진해서 중국에게 나라를 바치고 그 덕에 왕관하나를 얻어쓴데서 시작한 것이며 망해가는 명나라 황제의 낡은 곤룡포 자락을 붙들고 늘어지면서 오로지 자기 집안을 조선의 왕가로 만들어 준 명에 대한 충성심만 강조하다가 당한 일이다청과의 화친을 주장한 최명길이나 명과 청을 두고 대등한 외교를 펼치면서 옛날 고려시대 남쪽으로 찌그러져 있던 송과 북쪽의 요나라나 금나라 등과 등고리 외교를 펼치면서 국가의 자주권을 지켰던 시절로 조선의 국격을 되돌리려 했던 광해군 등은 변해가는 세계정세에 제대로 적응 하려 했던 사람이었지만 못나빠진 조선판 수구꼴통들은 이러한 변화가 당장 자기들의 하루살이 같은 그 기득권이 위협받는 것이 싫어서 정변을 일으키고 인조를 내세웠다가 결국 몇년 못가 저 꼬라지가 된 것이다 명나라 시절에도 속국이었어요 마치 명나라 시절에는 속국 아닌것처럼 말하시는데 명나라를 부모의 나라 라고 하면서 아주 열성적으로 섬겼습니다 그리고 인조보다 더 한심한건 척화파들임 척화파들 때문에 이 사난이 난것 인조반정의 세가지 명분이 폐모살제 명과의 의리를 저버렸다 무리한 궁궐공사개인적 사견으로는 중종반정은 반정으로써의 명분이 충분하다 생각합니다만인조반정은 잘못된 반정이었다 봅니다광해가 인목대비를 유폐하고 영창을 죽였으나인조는 소현세자와 세자빈 강씨와 손자들까지 죽였으며존명배청의 잘못된 이상주의로 결국 오랑캐라 부르던 청에 치욕의 역사를 남겼으며반정후 광해가 추진하던 궁궐공사를 인조 자신도 이어받아 계속 추진하였으니 인조반정은 인조 스스로가 가지 명분의 가치가 없음을 증명했다 봅니다광해가 비록 성군은 아니었으나 폭군은 더더욱 아니었습니다 저도 인조에게 대사간 유백증처럼 이럴려고 반정했습니까라고 묻고 싶네요 인조지금의 윤석열 그 자체    인조와 왕권위를 물려주고 사죄하면 될거라고 생각하나  왕위를 물려주던 안물려주던 결국 임금이 사죄해야될거임 방식은 그들이 정하는거니까 인조선조고종조선 역적 세쌔끼민비는 진짜 역적이며 미친년잘 죽임 인조 쪼다 쓰발이 묘에가서 침밷고 왔음 다음에는 오줌 누고 올것임 저때  청나라가   그냥  광해군을  복위시켰으면   아쉬움  인조저새끼를  폐위시키고  개인적으로 조선시대  최악은 인조임 그놈의 성리학  그놈의 사대주의 지금 전정부에서 중국과 미국의 사이에서 줄타기하는걸 광해의 외교전이였다 보면  윤석렬의 미일올인 사대정책을 보면 꼭 그때의 인조를 보는것 같습니다  사대주의에빠진 언론과 국짐 친일파 놈들이  그때 광해를 공격했던 사림놈들과 똑같고 어리버리 왕권을 줏었던 인조와 윤석렬이 얼마나 똑같은지ㅋㅋ 개국공신중 하나였던 이괄의 난과 이준석의  난 도 비슷하고어휴병자호란급은 아니더라도 그동안 흑자였던 대중국무역이 대규모 적자로 돌아선걸보면 지금 우리가 심각하게 느끼지  못하는 사이 호란을 당하고 있는걸지도 모르겠습니다 그래도 홍타이지가 아량이 넓었네 나 같았으면 주제도 모르고 처음에 까불면서 도발한 인조 항복하러 나왔을 때 또 그 건방진 주둥아리 한번 놀려보라고 목을 베고 아들인 소현세자를 왕으로 앉히고 돌아갔을 텐데 그래도 살려는 줬으니 물론 아홉번 머리를 찧는 치욕은 안겨줬지만 인조 극혐 전쟁도 일으켰지만 지자식 며느리 손자까지 죽인 폐륜놈임ㅠ 인조가 딱 지금의 굥 왕다운 인격 능력도 없는 찌질이가 왕이랍시고 백성을 힘들게 하며 권위만 내세우고 나라를 망가뜨렸던 인조 선조 그리고 미친폭군 연산군 개 쓰레기 인조 개새광해군 몰아내더니 그때 싹 쓸어버렸어야 했는데 인조는  임금자격없고  군으로 강등해야 광해군이 쫒겨나지  않았으면  병자호란정묘호란이 없었고 조선이 일찍 발전했을걸 윤석열이  인조를 닮았다 전쟁을 부추기는것이  어쩌면 그렇게 똑같나  광해군은  명과 후금사이에서  현명한 중도외교를 펼쳐서  전쟁을 막을수있었는데  인조가 반정이 아니라  쿠테타를 일으켜 조선후기를 망쪼들게  만들었다 홍타이지는  인조 이새끼 목을  잘라어야 했다최악의 군주인 인조 쥴리서방굥씹열 이때 청에서 만약 인조를 죽였음 어떻게 됐을까요 죽일려고 하면 죽일수 있는데 말이죠 인조도 정말 무능했지만 당시 유교사상에 찌들어 있던 사대부에서 비롯된 외교경제군사 모든분야가 정체되고 쇠퇴한 조선의 문제이기도 하죠 쥐뿔도 없으면서 제대로 방비도 안하고 개기다가 결국 치욕을 당하네어휴 쪽팔린다 진짜ㅠㅜㅜㅜ 선조랑 인조는 누가 더 최악인지 우열을 가리기가 힘드네ㅡㅡ 지금은 어떨까요사람이 바뀌고 시대가 바뀌었을뿐그시대에 그사람들누가 역사에서 배우나요제욕심으로 이용할뿐인조 조선 첫째 굶겨 죽일놈 송파구 오금공원 동쪽에 송파도서관 입구에는 인조와 서흔남 동상이있습니다 눈속에 남한산성으로 도망가다가 얼마나 다급했는지 나무꾼 등에 엎혀서 가는 모습에 서인들의 인조반정이 얼마나  잘못되고 찌질이를 왕으로 옹립했는지 한숨이 납니다 반면에 오금공원 중앙에는 임란 호성위성 양대공신인 문양군 류희림묘역이서울시 문화재로 년 지정되어서 임란 승전과병자호란 치욕의 패전 모습이 오금공원에 공존하고 있습니다 예나 지금이나인조 본인도 왕이 되고 싶었겠지하지만 저 모지리를 왕으로 앉힌 인간들이 더 나쁜놈들 아닌가그 놈들 욕은 안해요  별로지금도 모지리 지금 정권이 하는 짓을 보니 꼭 인조하는 짓과 똑같구나걱정이구나 인조 내용보니지금 울 나라 무지랭이 멍충이 대통령이랑 비슷하게 보이네취임하고 지지 더 받을거라고 중국 패싱한다고 까불고 유럽연방 모임에 안가도 되는걸 중국견제 한다고 가긴했는데그뒤엔 바로 중국이 경제란 무기로 타격을 주니도망도 못가도 믿고있던 미국명나라마저 등을 돌리니 진퇴양난그러고 난뒤 비굴하게 중국한테 대화하자고 구걸하고한심합니다자기만 잘하면 지지는 저절로 올라가는데 왜 저런 꼼수로 국가를 운영할려고 하는지답답합니다오래전 선생님 그러니깐 대선전에 이재명님 지지한다고 선포하면서 윤석열을 원균이라 지칭하고 포효를 하셨는데 그때도 선생님 말씀이 맞다고 생각하다가 요즘은 원균 정도도 안된다 생각합니다그냥 모지리입니다원균은 그래도 폼이라도 전쟁에 참여는했고 어쩌든 목숨걸고 전투란것도 했으니 그나마 이해는 안되지만그점은 조금이라도 인정은 하는데지금 대통령은그냥 멍충이 입니다그 마누라는 민비가 울고갈 정도로 무속에 빠진 정신나간 여자고요즘 나라 생각에 나같은 무지랭이도 너무 속이 상하는데다른님들도 비슷하겠죠 조선왕에 으뜸또라이 선조ㅇ  인조ㅇ 인조가 얼마나 ㅂㅅ같고 위협이 안된다고 생각했으면 목숨을 살려줬을까 조선은 치욕의 조상국으로 진작에 멸망했어야 하나 천운으로 조선왕이 일본에 나라를 팔아먹을때까지 오랫동안 존속하였다 하늘이 버린줄 알았던 조선은 미국 덕분에 일제로부터 해방되고 이승만 대통령이 자유민주주의 대한민국을 건국하여 오늘날 번영의 바탕이 되었다 과거 조선과 연을 끊어내준 일제가 오히려 대한민국인은에게는 전화위복이 되었다 일제를 미화하는 것이 아니라 결과적으로 조선 스스로 변화하여 절대로 탄생할수 없는 대한민국이 건국되는 다리 역활을 한것은 분명하다 만약 일제가 없었다면 오늘날 독립 대한민국은 없고 중국의 조선성이 되었을 것이다 생각만 해도 끔직하고 아이러니한 역사가 아닐 수 없다 인조를 마지막으로 조선은 망했어야했어 등신중 상 등신  인조인간 권력을 잡을려고 반대세력으루다 내처버리니 충성할 백성과 군사가 없네이괄과 같은 잘훈련되고 충직한 자가 있었다면 저리 쉽게 수모를 당하지 않았을 것을 인조가 쓰레기 왕인 거지 인조반정이 잘못된결과임 에효이기지도 못할 거 왜 깝쳐서 저 망신을 당할까요 멍청한 인조 인조무능의 극치 조서니 임금중 가장 우왕인 인조 그 휘하 사대부들 개드립에 수십만 백성들이 북방으로 노예로 끌려갔었는데도 인조와 개드립들은 조선의 왕과 사대부로 잘먹고 잘 살았다분노와 슬픔을 어찌 할수가 없구나 인조외 인조반정 주역김류이귀신경진외들이 역모 일으켜 광해군 몰아내고 정권 잡더니 이괄의난 정묘호란 병자호란 등 최악의 나라 개판나라가 되었음백성들 고통이 어찌 하였을까요 조선의 최악의 왕선조 인조 고종 그리고 연산군그들이 없었다면치가 떨립니다 임진왜란 선조 원균이 아주 잘 해쳐먹은 난 병자호란 인조 그리고 꼬봉들이 해쳐먹은 난 임진왜란병자호란 보는데 이순신장군땜에 올라갔던 애국심이 인조에서 다 무너지네어떻게 저런인간을 왕으로 세우지 이야 성리학추종자들 ㄸㅂ 인조 ㅋㅋㅋ 기어들어 갑니다 포로 만에 대해서는 말한마디 못하고 자기목숨만 구걸하는 인조 난 조선최고의 암군은 인조라고 생각함 진짜 답없는 인간 능력도 없어거기에 속은 좁고  인물등용도 개판이야 거기에 그 개판인문들한테 휘둘려진짜 아후 인조는 인조인간다워 문죄인 보면 인조 빙신이랑 똑같아 조선나라는 맨날 통곡하다 볼장 다 봄똥오줌 못가려서 그럼제일 등신이 뒤에  적을 두고 앞에도 적을  만드는 애임일본을 우리편으로 만들지 못하면 피해야 하는 전쟁임앞뒤에 적을 두고는 승산이 없음전략전술 기본임그것도 찟어지게 가난한 무능한 나라가  근본없는 패기만 쩜청군은 임란에서 새로운 전쟁을 배워 화력과 기동력을 합쳐 군사 혁신에 성공해서 결국 막강한 화력을  지닌 명도 압살함말 탄 총병이 등장하고 캘버린의 동양판 홍이포가 등장해서 화포도 말로 빠르게 기동시킴청군은 화력과 기동력으로 조선군을 간단하게 압살함하지만 조선선비들은  아직도 고려 몽고시절에 살고 있었음이미 세상은  열 두번도 더 바뀌었음강화도같은 소리하고 있음이미 세상은 개벽하고 있었음조그만 캐럭을 탄 명의 청교도가 대서양을 건너 신대륙으로 이주했답니다국사는 세계사에  너어무 무지함그러니 우물 안 개구리 노래 부름세기에도 아직도 패기에 쩐 청개구리임뽕에 취한 청개구리가  살모사에게  맞장  뜨자고 발광함제일 등신 왕이 인조임선조는 잘튀어서  나라를 살림인조는 튈 용기조차 없는 등신임허수아비  왕이라서 눈치보느라 그럼이미 임란 당시 명군이 불랑기를 대량 운용하고 재란에서는 일군도 운용함조선은 훍포를 들고 운지하고 있었음곧이어 더 고성능  포인 캘버린이 동양에도  등장함헌데 조선은 흙포 총통들고  은지하고 있는 주제에 패기 하나는 죽임심지어는 화승총에 쓸 화약조차도 없었음당시 화약은 고가의 전략자산임임란에서는 명 원조로 운용함  그덕에 명나라 재정이 거덜 남가난한 조선나라는 대량운용 못함화약없는 총은 작대기보다 못함결국 조선 무장들은 최종병기 활들고 싸우다 죽어감결국 나라가 통채로 절단 남조선은 이미 그때 죽은 목숨임일본보고 삿대질하지만그나마 영미 똘마니였던 일본에 먹혀 운이 좋았던 것임결국 일본 덕에 미국 줄을 타서 현재 태평성대를 누림운좋은 나라임 와 인조 진짜 능력도 없는데 욕심은 졸라 많네 진짜 그냥무능한 인조 그냥유식한아집쟹이 선조  조선의 개쌍조 인조는 머리밖고 후에 조선을 통치한거냐  꼬추 때 인조자식아 인조나 선조는 전쟁때 뒤졋어야됐다 인조반정 최악의 쿠데타의 걸과가 병조호란 도대체 무슨 깡으로 청에 덤볐는지 샘잘들었어여인조랑 김자점보면답답합니다 인조가 멍청하고 무능한것이지요 선생님의 명강의 잘 듣고 있습니다 하는 짖거리를 보면 선조나 인조나 문재인이 참 마이 닮았다 좀만 더 사내다운 맛이 있었으면 그래도 인조가 평이 달랐을수도 병신같은놈 남자가 한번죽지 두번죽냐 어찌 자식을 볼모로 보내고 자존심도 다버리고 자기 존재자체도 배반하면서 세상의 흐름을 읽을 줄 모르는 무능한 왕과 관료들이 부른 참사 광해군이 인조같은 자보다 백 배 천 배 낫습니다 한나라 국왕의 현명함 특히나 대외관계와 외교능력의 중요성현재 한국의 국제 정세 특히 미국과 중국사이  치우치지 않으면서 백성을 위태롭게 하지 않는 지혜로운 리더를 선출해야 함을 더욱 깨달은 역사강의 잘 들었습니다감사합니다광해는 자존감이있어보이고강홍립에게 명한 내용인조는 자존심만 가득한 졸로 보이는군요명이 임진왜란때 도와주었으니 그 의리는 이해가 되나 외교능력부족과 지나친 친명 정책이 부른 세계적인 쪽팔린 사건 인조나 문재인이나 오십보백보 조선왕조 최악의 왕 인조능력없는 왕이 나오면 안되는 경우선조인조는 쓰레기 왕 이 방송을 대 대가 꼭 봤으면 합니다선조와 인조를 통해 국가의 리더가 얼마나 중요한지 깨닫기를 인조를 끓어 내렸어야 했는데 광해군이 외교를 잘 했는데 안타깝고 처절한 우리역사입니다 조선의 선조인조고종은태어나지말았어야할 인간말종들이라생각합니다 선조와 인조는 막상막하 이군요 백성들만 불쌍한 것이지요 인조 개쓰레기 옛날이나  현제나   국민은  소 돼지고  정치적  싸음이고요  그대들 욕심뿐인걸  그게  인간  간사한  마음이라  생각하네요 조선 역사상   인조  선조   역대적으로   더러운꼴  보잖아요 인조는 코미디언이네 저렇게 비굴하게 항복을하네 항복에도 격이 있는거 아닌가 황천이 눈에 보이는 듯하다 조지를 분명히 밝히어 달라 언제는 이기고 지는 것은 병가지 상사라면서 그냥 늘상있는 일이라면 왜 수치스럽게 목숨을 구걸하나 졌으면 그냥 온전히 적에게 처분을 맡기던지 꼭 살려줄거냐고 묻고 항복을 해야 했나반전이 없는게 웃음 포인트 인조가 인조했구나 선조인조문재인 ㅋㅋ 조선시대 제일 무능한 사람은 고종이죠 선조 인조는 전쟁라도 해죠 전투한번 못해보고 나라 내준게 고종이죠 이상하게 미화 되었지만 인조를 부관참시해야해 인조는 아들 애매하게 죽이고 영조는 아들 확실히 죽이고 난 인조가 우리나라 역사중 으뜸가는 십새기라고 생각함 업적도 없는 병신새기삼전도의 굴욕은 수모가 아니라 천벌입니다 인조의 무능함에 빡쳐서 샘 강의 듣고 남한산성에 가서 답사 패러디영상 찍고왔습니다 조선왕조 이씨가 나무 오래 집권해서 드러운꼴을 봤네요 인조 선조  같은 실수를 반복해선 안됩니다 인조 얘기들으니까 문재인이 딱 떠오르네 인조만 탓할 일이 아니다 인조반정을 일으켜 당시 정치을 행한 노론이 문제이다 허수아비 왕은 욕받이 일뿐 전국에 떠돌이  들개들 이름이   ㅡ  인조   다 들으면서 인조가 정말 비겁했고 자신만을 돌아본 야비함을 가진 왕이었다는 것을 알았지만 그럼에도 불구하고 막막하고 또 자신이 시도할 수 있는 운신의 폭이 점점 좁아져가고 있음을 느낀 그 절망이 느껴집니다 그 사람이 비겁했느냐 척화신들이 얼마나 현실감각이 없었는가를 떠나서 홍타이지 앞에서 이마가 찢어지도록 꿇어 엎드려야 했던 왕과 그 왕을 바라보는 백성들의 마음은 어땠을까요 얼마나 울었을까요 부모로 섬겼던 존재가 무력한 모습을 본다면 제가 제 부모가 무력한 모습을 본다면 제 자신조차도 끝없는 무력함으로 울었을 것 같습니다 힘도 중요합니다 신의도 인간관계 사이에서 중요합니다 그러나 이 모든 것이 아무 의미없는 상황에서조차 자신의 신념을 이유로 모든 이들의 목숨을 볼모로 잡는 일은 참으로 답답할 노릇일 것입니다 그러나 그런 일이 있기 이전에 먼저 그럴 일이 없도록 더욱 강력하고 튼튼한 국가를 만들어야 함이 옳을 줄 압니다 오늘도 배웁니다 개인적으로 조선왕조 년중 가장 무능한 임금은 인조 오죽하면 인조가 대신들 에게 이레도 당쟁을 하겠느냐고 호통을 쳤겠 습니까 불행히 당쟁은 현제 진행형 입니다 인조가 소현세자에게 왕좌를 넘길정도의 인물이었다면 소현세자가 청나라에서 돌아왔을때 소현세자가족을 몰살시키지 않았겠죠그는 명예고 뭐고 쪽팔림은 한순간이요 권력은 부자지간에도 나누지 않는다는 생각을 한거죠애초에 조선이라는 나라를 생각하는 인간이었으면 인조반정역모를 일으키지도 않았겠죠 인조는 민족의 역적이었군요  무능한  리더가 정치하면 어떤일이 일어나는지 반면교사로 삼아야겠습니다 이때 백성들이 죽을께 아니라 인조뚝배기가 깨졌어야자존심도 왕으로서의 위엄도 애민도 아무것도 없이 권력욕만 가진 쓰레기 조선에 많은 안좋은 왕연산 선조 고종 중종등이 있지만 그중에 제일 무능한 왕은 인조인듯 인조의 짓거리를 보니 청나라가 참 젠틀해 보인다 과거 몽고 였다면 강화도에서 잡은 비빈들 둘째부터 인조까지 죄다 잡아갔을듯 조선시대는 청나라 속국이었다 말 안 들으면 어쭈 이것들봐라 ㅌㅌ 병자호란  인조임금 남한산성 치옥의현장 역사를모르면 나라가망한다  인조  이  개십새끼는  선조  이 개십새끼하고   지금도  억만겁 지옥불구덩이에서  제대로  뒈지지도 못하고  불타고 있을걸 병자호란이 일어난 이유는 먼저 조선선비들의 배금사상에서 찾을수있는데 후금누루하치가죽고 홍타이즈 즉위식에서 조선사신으로 초청되어간사신이 즉위식에서 깽판치고 사신이 조선으로 돌아갈때 홍타이즈칙서를 후금대신들이 보는앞에서 팽개치고 했으니 전쟁이 일어날것은 기정사실 그러나 조선은 후금기세를 전혀보지않고 전쟁준비를 전혀하지 하지않았다 조선사신들에의해 개망신을 당한 후금은 압록강이 얼기만 기다렸고 말이 건너기가 용이할때 전광석화처럼 단일만에 청기병대가 한양을 외워싸고 인조는 남한산성에서 항쟁을하고 결국은 인조는 항복하고 조선인민들은 죽고 수십만이 끌려가고 비극중의비극 당시 조선선비들은 왜그리 무모하게 군비력도 없는상태에서 객기를 부렸는지 지금도 명분만을 주장하며 국해가되는짓을 하고있는지는 아닌지 조선왕조의가장무능한임금이 인조와선조이다 능력도없고지도력도없는한심한무능의대명사이다 인조 능력도 없는 놈이 쿠데타로 정권잡고 나라와 온백성을 나락으로 마치 어느놈같이 황현필 선생님 팬입니다 딴건 모르겠고 인조가 끔에 온조대왕이 나와서 지금 청군이 북쪽 성벽을 오르고 있는데 잠이 오냐고 혼내켜서 잠에서 깬 인조가 북쪽 성벽을 가보라고 해서 가보니 정말 청군이 성벽을 넘어오고 있더라고  가정이지만 홍타이지가 삼배구고두례를 받고 인조 목을 쳐버렸다면 소현세자 살아 왕이되고 이후 조선은 혁신을 거쳐 어쩌면 조선의 개화도 훨씬 빨라져 근대에 강국이 됐을텐데 라는 생각을 해봅니다 인조 예끼 요 이 쓰레기 같은 인간아 역대 망 임금 투톱 선조인조 홍타이지의 인격이 보이네 저런 개무시를 당하고도 인조를 살려두다니  홍타이지가 우리 군주였고 인조가 청나라 군주였더라면ㅠㅠ 인조반정까지해서 나라 말아먹고 중국이 지금도 조선은 지들 속국이라고 큰소리 치게 만들었음 심지어 이씨들이 중국인이레ㅋ 인조는 전형적인 아가리파이터에쪼다였음 표트르대제가 자식이어도 왕재가 아니랴먼 왕이 되서는 안된다고 했는데딱 그런 인물이 반정을 통해 왕이 되었으니 예견된 결과였던 것 같네요 홍타이지 정말 머리 좋군요 인조 같은 찌질이를 살려서 그대로 조선 왕으로 앉혀서 조선 스스로 반란이 나서 망해도 좋고 그냥 지리멸렬되도 좋은 묘수를 두었었군요인조를 살려둔 게 홍타이지의 신의 한 수였네요 물론 범문정의 생각이었겠지요 조선시대 최고쓰레기왕 인조개섹기 인조  선조  고종   문재인  박그네 황제가 직접 온것 만해도 인조에겐 과분한거 아냐 당태종이 직접 오고 거의 년만이네 인조의 무능함은 어디까지인가요 청태종도 참 속 좋네요그까짓거 한줌 먼지같은 인조랑 그 ㅂㅅ사대부들 살려주고 가다니 인조는 진짜 병신이라는 욕도 아깝다 ㅋㅋㅋ 인조 참 대단하다 양아치세끼야 인조가 문재인대통령 반만 닮았어도누구는 한미정상회담을 성공으로 이끌었는데 누구는 국민을 탱크로 밀어버릴 생각만 하고 이래서 지도자가 중요한겁니다 인조를 그때 홍타이지가 처죽엿어야 남한산성들어간 인조와 그 쫄따구들을 보면 종북좌파 극좌들 보는것같다운동권들 참답이 없지소득주도성장 ㅋㅋㅋ 당하지 않을 수 있었던 백성들의 고난 국가적 손실 모욕을 자초한 자들 조선의 고루한 먹물들과 그 수괴 이종 인조의 본명을 빼다 박은 자들이 청와대와 국가 주요 기관의 요직에 진을 치고 있으니 대한민국의 앞 날이 참으로 위태롭습니다 반정을 일으킨 무리들이 기껏해야 삼전도 치욕을 불러들었으니 인조를 인군으로 격하시키고 광해를 광조로 격상시키는 조선실록을 다시 써야한다 인조의 병싱짓거리퍼레이드가 삼궤구고두례까지인걸로 알면 오산 이건 서막에 불과했고진짜 병싱본편은 호란 이후부터임아들손자며느리 다 죽임병싱태풍의 핵 지는 안죽고 천수를 누리고 그 대신 주변사람 다 죽임광해군의 폐모살제를 명분내세워 집권했던 사람이 무능한 인조우크라이나 코메디언 대통령과 쌤쌤ㅋㅋㅋㅋㅋㅋㅋ 한  국가의   왕으로나   아빠로서의   자격이나 자질도   없는   무능무지하고    거지무지랭이같은놈이호부견자가   아니라견부호자로세남한산성에서    항복이냐항전이냐   갈림길에서왜   항복을   택했을까뒈지기는    두려워서그  당시   참형을   해버렸더라면아니면   쟤놈이   대가리를쳐박고   자폭해버리던가꼬레   치욕이라고   그  보복을    쟤놈의   아들  손자   며느리에게   한찌질한   놈지금이라도   인조를   능양군으로    능을    묘로   격하하기를도대체   문화재청장이나역사가들은  뭐하는가 인조놈을 인질로 보냈어야지 인조 빙신새끼 그냥좀걸어가면 되지 걷기싫어서 다시 산성으로 기 들어가냐 씹새왕 였네 ㅋㅋ 이 시기 승정원일기에 재미난 기록이 있지요이경증이 아뢰기를 그들 역시 어찌 성심을 다하여 일하려고 하지 않았겠습니까 창졸간에 일어난 사태에 무기가 구비되지 않으니 심신이 놀라고 산란하여 일을 주선할 겨를이 없었던 것입니다 외부에서 온 사람들은 이 적이 강하고 사납지만 왜인에는 미치지 못한다고 말합니다 고언백이나 한명련 같은 자가 있다면 적진을 돌파하기가 어렵지 않겠지만 담당할 사람을 한 사람도 들어 보지 못하였습니다승정원일기 인조 년  월 일고언백은 광해군 때에 역모에 휘말려 죽은 맹장이고 한명련은 아시다시피 말년에 억울하게 역모로 몰려서 정말로 이괄의 난에 가담해버린 맹장 입니다 고언백은 그렇다치더라도 인조 앞에서 역적으로 죽은 한명련 이름을 왜 꺼냈을까요저는 이경증이 국방 말아먹은 인조를 우회해서 비판했다고 생각합니다  정말 비판받아도 할 말 없는거지요 인조는 인조는 정말 조선 최악의 왕이군요  오직 자기의 안위와 목숨만을 귀하게 여기고 국제 정세도 모르고 엉뚱한곳에 충성심을 가지고 있는 멍청하고 이기심만 가득한 왕이었네요  오늘도 많이 배우고 갑니다 인조굥써글 썩려리 인조개자식 고위급 청나라 장수인 양구리를 전사시킨 광교산 전투의 승리도 중요하지만 유림의 김화전투가 사실 더 큰 승리로 알고 있습니다 김화전투 덕분에 청군과 몽골군의 강원도 진입이 좌절되어 강원도의 피해도 없게 되었구요  둘다 병자호란 최대의 대 승첩이긴 하지만 광교산 전투와 달리 병력까지 끝까지 흐트러지지 않은 김화전투가 어떻게 하면 조선이 병자호란에서 승리할 수 있었는가의 필드메뉴얼에 더 가까웠던 전투라고 생각합니다  참고로 경상도근왕군을 대패로 이끈 쌍령전투의 조선군 장수는 이순신 장군이 크게 될 인물이라고 했다는데 전혀 그렇지 못했죠 성웅께서도 가끔은 사람을 잘못 보시기도 하신듯요 쌍령전투와 광교산 및 김화 전투를 비교해 보면 지휘관의 능력이 얼마나 중요한가를 실감하게 됩니다  광교산 전투의 전라도근왕군을 이끈 김준용장군도 물론 뛰어났지만 김화전투에서 청군의 근접접근까지 조총사격을 훌륭히 통제한 데다가 한때 진이 뚫릴 뻔한 상황에서 훌륭한 리더쉽으로 병사들을 진정시키고 전투를 승리로 이끈 유림장군은 인조대 최고무장으로 손 꼽을만 하다고 봅니다 청군이 병자호란 이후 유림과 임경업을 정명전에 참여할 조선군 장수로 콕찝어서 지명한데는 그만한 이유가 있는 거죠 외교가 엿같은게 지들끼리 싸우면되는데 피터지는것은 항상 조선이네광해나 인조봐봐얼마나 착한 면상인가 선조가 훈발놈이라면 인조는 노진구 그냥 인조는 선조와 함께 조선 대 쓰레기지 그런데 선조를 선조대왕이라고 쓴 어떤 한의사년도 있더군 뭐 그 당시 허준으로 하여금 동의보감을 쓰게 해서 그런 호칭을  붙인 것인지는 모르나 아무튼 난 대왕이란 호칭은 세종한테만 쓰는 건 줄 알았어 반 평생을 내가 틀렸나봐 하하 인조 선조왕이 조선 왕조의 치욕의 순간이다 선조\\xa0이놈은\\xa0왜놈들\\xa0깔보다가\\xa0박살났지만서도\\xa0희대의\\xa0명장\\xa0이순신을\\xa0기용했단\\xa0업적이라도\\xa0있는데\\xa0인조\\xa0이\\xa0개자식은\\xa0기껏\\xa0있던\\xa0병력도\\xa0내란으로\\xa0말아먹고\\xa0주제도\\xa0모르고\\xa0깝치다\\xa0결국\\xa0온\\xa0백성을\\xa0전쟁에\\xa0몰아넣곤\\xa0비굴하기\\xa0그지\\xa0없게\\xa0항복하네요\\xa0어후진짜\\xa0스트레스\\xa0그니깐\\xa0이순신 장군께서\\xa0노량해전\\xa0대충\\xa0끝내고\\xa0그대로\\xa0한양\\xa0진격해서 광해를 새왕으로 옹립하여\\xa0새\\xa0나라\\xa0열었어야\\xa0하는데 그랬으면\\xa0인조반정이나 청나라는 태어나지도 못했을 것인데아까비 선조가 이순신을 기용한 업적이라기 보다는 충무공을 대신할 인물이 없으니 기용하게 된거지 그걸 업적이라고래고래광해군을 선조대신 옹립해도 어차피 역성혁명이 아니고 광해가 인조 반정이 없었더라도 청이 봐 줬을까 ㅎㅎ 역사에 가정은 없지 모자라거나   못났고   무능무지하며멍청한놈이    넘치거나   잘났고   유능유지하며  영리한줄   착각함을초월하여   밀어부치니이런놈을   받들어서   걸견폐요하는망나니들이런놈들은   노비로   태어났어야되었을놈들이거늘삼전도의   굴욕이라   하는데   국가의굴욕이지   능양군의   굴욕은   아니죠그  당시  끝까지   오랑캐라고  대항했으면   멸망당했을것인데항복해서   무사했다능양군  이  찌지리가   뒈질까   두려워서   항복했다이런놈인데  직접   대가리  쳐박고뒈질리는   없으니   삼도고구도례시대가리  박을때   큰돌멩이라도  뒷통수에  낙하해  버렸으면그런데    왜    지금도   인조능양군으로     능묘로격하시키지   않는거야아니   아예   무덤을   폐기버려야지 인조가 아니고 능양군으로 불러야 될 듯 ㅋㅋㅋ 인조는 진짜 황쌤 영상 항상 감사히 보고 있습니다 광해를 몰아내고 더 심한 짖거리들 자행하고 무능의 극치 인조 지금의 문조를 보고 있는듯 합니다 임진왜란 당시 선조 때 보다 인조가 더 짜증나는건 저만 그런가요 아 진짜 부끄럽네요  ㅜㅜ 내가 만약 홍타이지여도 인조는 안죽이지  왜냐면 상대국 국왕이 저리 찌질하고 머저리같아야 안심하고 명나라칠거아냐  저 당시에 광해군 살아있었는데 홍타이지가 광해를 다시 왕으로 세웠어야하는 사람이있는데 홍타이지가 등신도아니고 중립외교하는 똑똑한 왕 앉혀놨다간 언젠가  조선이 국력기르고 또 댐빌지도 모르는데 확실히 밟아논 인조를 그대로 놔두고 세자들 하고 대신들 볼모로 끌고가는게 당연하지  좌우지간 조선은 임진왜란 또는 정묘호란때 나라가 망해서 다른 나라가 생겼어야되는데 ㅉㅉ 홍타이지는 진짜 대단한 청 황제임 입시위주의 교육에서 벗어나 이런 알맹이 있는 교육이 졔공되는 날이 하루 빨리 오기를 기원합니다 저도 삼전도의 굴욕이라고만 달달 외워 알고 있었는데 세상에나 인조라는 인간은 진짜 비겁한 쪼다 양아치 새끼네요이런 교육을 받아야만 교훈이 가슴에 새겨지겠어요 선조 인조 이승만  공통 항쟁이 맞나 싶은 처절한 굴욕인데 그 와중에도 인조는 진심 욕나옵니다저러고도 왕의 삶을 이어간게 더 불행입니다 인조나 선조같은 개새리 지도자가 다시는 나오지 않기를 바란다 인조 괘씸한 놈 인조야인조야그래도 삼학사 윤집오달제등은 끝까지 존심이라도 지켰지인조야이 개 쓰레기 왕 인조야너는 어찌 끝까지 살아서 소현세자까지 잡아먹느냐 선조인조 언행들을 보면 마치 년 년 현재를 보는거 같습니다 누가 말했죠 역사는 반복 된다고 인조를 왕으로 옹립한 세력이 서인과 유성룡의 남인 세력이지쥐색히와 박은ㄴ ㅕ ㄴ 을 댓통으로 밀어준 세력도 그동네 역사는 반복된다서인들과 남인들의 야합과 김영삼 김종필의 야합이 빼박이네 우리가 남이가 정말 슬픈 역사입니다 무능한 인조를 알면 알수록 열이 더 받습니다 타산지석입니다 앞으로는 이럴 치욕을 겪지 말아야겠습니다 저는 황편필 선생님과 좀 다른 생각이 들었는데요 만약 인조가 소현세자에게 양위하고 자신이 볼모로 가겠다고 했다고 과연 청나라가 응했을까 싶습니다평소때와 달리 홍타이지가 직접 친정을 왔다는 것은 말 그대로 끝을 보겠다고 내려온건데 청나라가 바보도 아니고 인조가 그런다고 해서 덥석 그래 그러라고했을까 싶네요 오히려 끝까지 굴욕은 피하려고 하는구나 싶어서 더 괘씸하게 봤을 수도 있을 듯 합니다 그리고 청나라도 지난 고려때의 원간섭기때 원나라가고려를 어떤식으로 다뤘는지도 이미 알고 있었을 가능성이 높은데 후에 왕위를 이을 사람을 볼모로 데려가지 상왕을 데려간 적은 없기 때문입니다 그래야 후대왕이 자신들 사상을 이해하도록 교육시키기도 편하고 여러모로 이점이 많으니깐요 인조개자식이 이다 무능하기 짝이 없었던 ㅂㅅ 인조 홍타이지 그냥 인조랑 선조 패밀리하고 성리학빡대가리들 다 몰살해주고 가지ㅠㅠ 아쉽네요 강의 감사합니다 소설 남한산성김훈을 읽었을때의 먹먹함이 다시 한 번 느껴집니다 한명기 교수의 말처럼 보수반동 쿠테타를 일으켜 정권을 잡은 인조무리들이  국가안보보다 정권안보를 우선시했고 이괄의 난 등 을 통해 백성들은 물론 군사들 마저도 더이상 당시 이씨 왕조의 존위는 자신들의 삶과는 하등의 관련이 없다고 생각하지 않았을까 생각됩니다 결국에는 과거 임진왜란과 달리 의병 등 아래로부터의 저항의식이 병자호란에서는 매우 미미하지 않았나 싶습니다 임란때 의병장들김덕령 등도 결국 선조의 의심과 불안증으로 역모 누명을 쓰고 죽임을 당한 일이 있으니 백성들에게는 분명 이러한 학습효과가 있지 않았을까하는 안타까운 예측을 해봅니다  일은 제대로 못하고 안하고 할줄도 모르고 뺏을생각만 하니까 망하지 병신정권 인조개쉑이야 자식까지 죽이고 사람인가 세기 박근혜  조선최고의 병신왕 차라리 없었으면 역사에 치욕하나 줄일수있었던 암군인조토착왜구 사병집단인 기래기년놈들 또 제의 박근혜만들려는 작업중방머시기  홍머시기   꼬붕윤머시기 영웅안들기에 라 이이 씹어죽여도 분안풀리는 개매국노악마쎄끼들아  지옥에나 떨어져라개버러지만도 못한 기자구더기세끼들아 인조는 왜 군이 아닐까 ㅂㅅ인데 깔끔하게 인조 청태종  맞다이 승부보자 해도 인조가 밀림 세계최악의 찌질이왕 인조 저러고도  조선의  위정자들은  변하지  않았죠  인조는  넓은  세상을  보고  온  아들까지  죽여가며  죽을때까지  왕 노릇 계속했으며  사대부들은  명이  망하고  난 다음에도  명  마지막  황제  숭정제에게  제사까지  지냈죠 청  사신이  오면 쥐 죽은 듯  쩔쩔 매다가  뇌물을  산더미처럼  쥐어  주고서   가고 나면  오랑캐라  욕만 해댔죠  왕조의  수명은   년이  적당하다고들  하는데 저 때  왕조가  교체  되어야  했고  그래야  일본에게  국권을  상실하는  비극을 막을 수  있었습니다 그런  점에서  오늘  미사일  사거리  제한  해제는  시사하는  바가  매우  큰  사건  입니다 인조의 속물근성이 참으로 역겹네요ㅎㅎ 선조 인조그 할애비의 그 손자쓰레기 유전자 고구려의 소수림왕이  인조때왕이었으면   조선개털리지 않음  소수림왕이  내정능력이 넘사벽이라 할아버지 미천왕이 이룩한걸  아버지 고국원왕이 말아먹은거  불과 년도안되어서  국력신장시키고 군사력끌여올려서  백제 수곡성함락시키고  평양성방어까지 한 왕임 어휴 광해군이었으면  이런 불상사는 안일어났겠죠 무능한인조 그런데 인조는 왜 하필 온조에 제사를 지낸건가요조선은 단군 혹은 기자의 고조선 정통성을 이었고 온조는 부여의 정통성을 이었는데요 강의를 듣다보니 차라리 조선은 선조나 인조때 멸망하고 새로운 나라가 건국되는게 낫지 않았을까 싶습니다 단순히 선조가 인조가 ㅂㅅ같은 군주라서가 아니라 유교 탈레반 같은 신하놈들이 조선은 망해도 명나라를 섬겨야한다 같은 소리하는걸 듣고있다보니 나라가 망조가 든지 오래되었다는 생각이 들어서요 유교든 불교든 기독교든 어떤사상이나 종교에 빠져서 다른생각은 들으려고 하지도 않고 국제정세가 어떻게 돌아가는지 보려고도 하지않는 광신도들은 정말 답이 없네요 영상 만드시라 수고했습니다인조가 그 와중에 제사지내는 것보니 할말이 없군요저도 아주 옛날 학창시절  김상헌 그리고 윤집등 삼학사들에게 호감있게 교육받았는데 지금와 생각하니 어리석은 군주와 고집센 성리학자들로 인해 백성들만 도탄해 빠진 것보니 어느 한쪽이 옳다고만 할 수없군요 백도 못막는 나라가 나라냐 역사를 보면 볼수록 알면 알수록 정말 쪽팔리다 선조 인조는 임금이 아니라 동네 양아치만큼도 못된다 오랑캐를 갑자기 하느님으로 받드는 인조 클라스 나라가무너지고 백성들이 죽어나자빠져도 명나라를 섬겨야한다 이겄이진정 양반놈들의 생각이었다면 니놈들은 이땅에서 살아갈 명분이없는 놈들이었다하기사 저들과싸우다 죽고 다치는겄은 불쌍한백성들이지 니놈들은 붓들고 글이나 싸지르고 앉아서시나 씨부리고 있었겠지임진왜란은 일본놈들이 죽이도록 밉지만 병자호란과 정묘재란은 인조와 반정무리들 양반놈들이 홍타이지보다 더밉네무책임하고 실력도없고 외교력지도력국방력뭐하나제대로 하는겄도없는겄들이 저런겄들이조선을 지배했으니어허통제라 참인조 족구해하고 홍타이지가 인조를 끌고갔어야해소현세자를 올렸어야해 저렇게 인조가 항복하고 청나라가 돌아가는 길에 임경업 장군이 뒤에서 쳐버려서 반이상을 죽이고 결국 조선에서 그것을  죄로 몰아 임경업장군은 참수된다는 역사도 있습니다죄로 몬 이유는 어찌어찌 해결시킨거 망쳤다는 죄 그래서 임경업 참수하고 목을 청나라로 보냄 인조는 끝까지 자기 목숨 하나 구걸하고 홍타이지가 오히려 남의나라 백성 걱정해주네ㅋㅋㅋㅋ 저딴 배알도 없는놈이 왕이었다는게 이 민족의 한이다 묶어놓고 돌을 던져도 시원치 않을놈인데 살아서 왕노릇 계속했다니 항쟁이라기보다 그냥 농성이었습니다 용렬한 임금 인조는 이 치욕이후로도 왕노릇하다 천수를 누렸지요 그 후손들은 대대손손 왕위를 계승하며 조선이 망할 때까지 호사를 누렸고 김상헌의 자손들 또한 명문가 대접받으며 살아남았습니다 그에 반해 최명길의 후손들은 역사에서 사라졌습니다 야당이라는 작자들이 툭 하면 전쟁 얘기하는데 진짜 전쟁이 발생하면 선조와 인조 처럼 국민들 버리고 지들 제일 먼저 도망갈거고 승만이도 그랬죠 국방안보는 보수라고 얘기하지만 이명박근혜땐   보라매 전액 삭감하고 방산비리 최고조 였습니다  하지만 지금 해외 순방중인 문재인 대통령님은 우리의 숙원인 미사일 사정거리 해제하고 남북 관계 복원과 개성공단 활성화 지지를 받았죠 그리고 백신 만분 확보까지 했습니다 이젠 진짜 보수는 문재인 대통령님이고 깨시민들입니다 자칭 보수라고 얘기하는 작자들은 보수가 아니라 역적들 입니다 인조 국서 내용 너무 비굴하다 저런 인간이 왕이었다니 저 때 조선이 망해자빠져야 하는건데 인조는 진짜 한심하다ㄷㄷ 고려때부터 신라보다는 부여에서 나온 고구려 백제를 계승하는 의식이 더 강해졌다고 봅니다 특히 왕건은 김유신의 후손들과 그 세력을 극혐했죠어찌됬건 한반도의 원 주인은 마한이니까요 마한이 나중에 흡수된 왕조가 백제이고그리고 인조가 온조에게 제사지낸것은 계승의식에 의한것이 아니고 한양이 온조가 왕조를 일으킨 지역이기 때문입니다 남한산성에서 강화도 탈출 첫번째 날에 아무리 눈이 많이 오고 추웠어도 끝까지 갔어여야지 남한산성에 갇히는 것 보다 힘들어도 강화도에 가는게 훨신 살 가능성이 많은데 눈이 많이 왔으면 상대는 기동력이 떨어지고 정보력또한 약했을 것이고 인조는 민가들의 도움을 받고 소수 정예 인원들과 장정들 등에 옆혀서 의지 했으면 충분히 성공 했을테인데 인조가 나약했고  무능했고 우같은 사람 이었다  일단 인조 한사럼 이러도 강화도로 피신 했으면 청은 바로 퇴각 했을것이고 명이 망한후에 조선이 국서 한장이 이면 상황 정리돨 일을 김류 영의정 만이 상황을 정확하게 직시를 한 것 같네요 인조가 강화로 빨리 튀고 수군 깔아놓고 버티기만 해도 자동으로 이겼을텐데 아쉽네요 도망도 못치는 바보여서 선조는 도망이라도 잘갔지 진짜 무능한 쓰레기 같은 인간 인조 강의에 푹 빠져듭니다조선 역사상 최악의 왕 인조오로지 자신만 생각하다소현세자 마저 죽인 무능의 극치선조가 그나마 낫구먼그나물의 그밥이지만 조선왕 중에 가장 멍청한 인조 ㅠㅜ 인조 할배 선조라는놈이 더 멍청 선조 그리고 인조이 ㅅㅂㄹ 놈들ㅠ 이때 그냥 인조가 목이 날아갔었어야 했음 소현세자가 왕이 되었어야했는데 뇌피셜이긴 한데 입장바꿔 생각해보자구요 홍타이지입장에서 등이 조선의 왕으로 있는게 좋겠어요 아님 똘똘한 누군가가 왕으로 되는게 좋겠어요 나같아도 인조 그냥 두고 편안하게 명나라 공략하려 할 듯 인조가 목이 댕강 날라가 버리면 정통성이 무너져 그의 아들이 즉위할 수 없지요 글쎄요인조아비의 성품을 보면 소현세자도 과연 어떤 왕이 될지 능양군 이종인조만큼이나 무능한 왕은 외세를 끌어들였던그래서 결국 망국을 시킨 고종 정도이때 능양군을 몰아내는 반정이 있었어야 하는데 참으로 안타깝습니다 인조 이괄의 난 때 아웃 됬어야 참으로 아쉽다 홍타이지가 인조군을 데리고 청나라로 갔어야 했는데인조 저 야 ㅇ 아치는 허세만 가득차고 객기만 부리고 비굴하며 용기가 없으니 저런  자식을 홍타이지가 죽이지 않았음이 더 황당하다 오늘 영상을 보면은 홍타이지는 교양있어 보이고 인조군은 비굴한 야만인으로 보인다 참으로 한심한 성리학자들의 나라였습니다 쿠데타로 집권한 인조인지라 지방군부들이 갈팡질팡 했던게 큰 요인 왜란 당시 전국을 돌며 군을 독려하던 광해군을 몰아내고 왕이 된 인조이니 더 고깝게 보였겠죠 인조가 세조 처럼 벌받았네요 세조는 집권 방식이 문제가 많지만  인조나 선조에 비교할 만큼 형편없는 왕은 아닙니다 인조와 공신들에게 친명 사대주의는 종교였네요 인조반란에 연관 된 쓰레기들은 임진왜란에서 겪으면서 배우건 좆도 없었던 인간 쓰레기들임  일부 학자들이 병자호란은 피할 수 없다고 주장합니다만 고려 조정은 금나라에 년 군신관계를 자청하는 국서를 보내며 금나라와의 군사적 충돌을 피합니다   조선  후금청의 관계가 적대적일 때  홍타이지의 선택  조선  후금청의 관계가 중립일 때  홍타이지의 선택  조선  후금청의 관계가 우호적일 때  홍타이지의 선택어차피 광해군이 계속 왕이었어도 정묘호란과 병자호란은 홍타이지가 강경파이기 때문에 무조건 일어난다는 가설은 게임이론에서 위 세가지 경우에서 홍타이지의 선택은 무조건 조선을 공격한다는 자가당착적 모순에 빠지게 됩니다일부 학자들이 병자호란은 조선의 스탠스와 상관없이 발생한다고 주장합니다만중국 대륙을 정복하기 전에 명을 부모로 섬기는 것을 공식적으로 표명한 인조정권에 대한 홍타이지의 태도와 명을 언제든지 손절할 수 있으며 이를 실제로 보여주며 후금과의 화친을 행동으로 보여준 광해군 정권에 대한 홍타이지의 태도가 동일할 것이라는 것은 국제외교에서 힘의 논리만큼 중요한 상대성을 배제한 반쪽짜리 논리가 될 수 있습니다광해군은 후금과 국서를 교환하며 죄수 딜레마 게임의 내쉬균형에서 화친이라는 절충을 선택하고 후금측에서도 통수치지않는 절충을 택합니다 광해군의 외교감각은 임진왜란으로 인한 민심 수습과정에서 비록 적국이지만 일본과 포로교환을 통해 국교를 회복하는 등 국제관계에서 탄력적인 실리외교를 이미 보여주었듯이 명청교체기에 광해군은 능동적인 등거리외교를 구사합니다하지만 인조정권은 게임이론에서 최악의 선택을 합니다 번의 화친 기회를 버리고 강경모드로 전환하고 정묘호란에서 허리를 굽힌 것은 진심이 아니라는 배반카드를 선택합니다 여러모로 도박이었지만 조선이 후금청에 대해 우호적이지 않을 경우 언제든지 손을 보겠다는 뜻을 표명했던 홍타이지 또한 강경카드를 꺼내들며 치킨게임에 돌입한 것입니다 년  년까지 조선은 후금청에 대해서 화친적 태도를 일관되게 견지한 적이 없었습니다 작은 국지전도 아닌 국운을 걸고 병자호란을 일으킨 홍타이지는 조선의 스탠스와 게임이론을 무시할만큼 무지한 지도자가 아니라는 점입니다 그러니 중국 역사서 만문노당과 만주실록에서조차 광해군의 조선과 후금은 화친 관계였다고 표현했죠 인조 또한 후금을 자극하는것을 자제하고 명나라가 기울고 있는것을 알고 있었습니다 하지만 누르하치와 다르게 홍타이지때 청의 기조가 급변하고 조선은 그것에 대한 대처가 늦었던 겁니다 광해라고 해서 과연 전쟁을 피했을지는 모르는 일입니다 광해군이라도 피할수는 없었을꺼임상황이 상황인지라그래도 인조보다는 잘 대처했을꺼 같음 한가지 간과한것은 광해나 인조나 강력한 왕권이 아니였음그래서 신하들의 의견을 무시못함그리고 그당시의 금에 대한 정보가 완벽했을까 양쪽 살펴보니 명이 강했다고 생각할수도 있는 상황이죠 전쟁만은 피하려고 그렇게 애쓴 광해군 쫒아내고 정권잡아놓고 나라 쑥대밭 만들고 땅에 대가리 찍어가며 사죄하고 개쪽당하고 가지가지한다 인조야 고려정자 인조기록이죠   반정의명분이죠 광해군도 국외정세는 잘 봤다 쳐도 나라안 재정 무리하게 다 탕진한 새끼입니다 둘다 도찐개찐임 인조가 소현세자한테 왕 물려주고 삼배구고두 했으면 그나마 좀 좋으려만 까비 이놈의조선왕이 백성을버리는것는것은 종특인것같다선조 인조 고종한양러시아대사관이승만 병자호란 치욕의 역사이지만 영웅은 있었습니다 승전도 있었고답답한 삽질도 있었죠인조라는 ㄷ ㅅ 왕만의 문제가 아닙니다인조라는 ㄷ ㅅ을 옹립해서라도 주도권을 잡으려고 했던 모리배 집단인 서인들 그리고  그들과 한통속이 됬던 유성룡의 정치적 기반을 승계한 남인들이 더 쓰레기 였습니다'"
            ],
            "application/vnd.google.colaboratory.intrinsic+json": {
              "type": "string"
            }
          },
          "metadata": {},
          "execution_count": 17
        }
      ]
    },
    {
      "cell_type": "code",
      "source": [
        "# ChatGPT가 인풋가능한 글 길이를 넘기므로 SBART활용하여 요약\n",
        "!pip install transformers\n",
        "\n",
        "from transformers import PreTrainedTokenizerFast, BartForConditionalGeneration\n",
        "\n",
        "tokenizer = PreTrainedTokenizerFast.from_pretrained('gogamza/kobart-summarization')\n",
        "model = BartForConditionalGeneration.from_pretrained('gogamza/kobart-summarization')"
      ],
      "metadata": {
        "colab": {
          "base_uri": "https://localhost:8080/",
          "height": 814,
          "referenced_widgets": [
            "a048b6f814454b66ac1db3e9dfec082c",
            "eee4021b0dae4826a4027618013321e9",
            "10d64e96ed4e4cdb9b6f5cd0db275885",
            "0a94aae2ad144d279d7d480ea9771f73",
            "71209a4d84124c829a2f18892d32576c",
            "8173b864789941f1adb3478a0fca28c6",
            "d3ce6e977c2148438b8472ea2db1860e",
            "0021cd2dc4c8446e9cf12439cca4d8ad",
            "d04b8308cdd147fdba3c45771375d829",
            "91bd6c73c5a44268b56b6405422bfb16",
            "d41b4f386a614e338c3a613724cbfa63",
            "8edff48a76df417b8685c39f59feb69a",
            "665a092564ac484784598589b6d5439c",
            "e07d90a64e2b4b7f90caf966804804b2",
            "1ea1e22a62db4948bdf7880f2a0cdd41",
            "81b1d096f26346619115bb7925e75c8a",
            "d3d7867726d14938ae0846272ab72125",
            "3519aacdae6c43e19dc58e7bc4539321",
            "a8f01960436a47d1986dcc84650d8a9b",
            "8dfba7b6865f43be956e74d2a6623afd",
            "b8f0bf6549d9423293ec4a5ffa220dc3",
            "38528658af9e4235aed02ad4d295fa14",
            "a2fe51e0d8e343f9b1f24ea4e1eba084",
            "17a7750c379a4c4883648f4096878e1a",
            "f45aa75764bc481ab1f275c59dd62504",
            "1d229a0164da46aaab04d8835c42d0be",
            "c344e829397b4df19690e0f9ec78a27a",
            "1374322601cf4c90905c69144f4a821d",
            "d536de82ab604c56a120ac3f56cab13f",
            "bf3c2e80b48e479e9c8a96b93104e791",
            "09e71fda23054aabacffb25fba19ec24",
            "fc17ba1319f346e4ab38d15fb7c8c61b",
            "435b26978f804db2a44a04f31324a9f3",
            "15c3b9c0c0e749f0b73dd25a78abafdc",
            "c3d64b54bfc8435ba7e70a51d9c0bf32",
            "6acd42937c02473d9e48f7c6f7cbcc88",
            "db3f548c16ee4062881379f0271279ee",
            "345e82a221de4c8fa8a25436590c3436",
            "36ab378cc9b54997859a82b5d9dec88b",
            "b2dd57ad91bd4ef2882a6adc930246bd",
            "910310fb473e4a889c6dc72aac7d8fe3",
            "f5546ace82a34991a45105d150b50594",
            "8a9a9487b0114ea49b6aae83f5c443a5",
            "655225ec6e5646709be3fbf515bd8fed",
            "8e376c8b23c549a384b290960e42b140",
            "5104a9d4c1f44be4b97a61bac10775bd",
            "2f899ec694ee4ee595fb5049339a5517",
            "af98db1eaae744e58c2b6be96c39f127",
            "71fd2392d4f24142bd311d2be28f630a",
            "9ab86b38aa684af783beeae072882a78",
            "cc99cb8f6d3545e692d361f29487276c",
            "9be18936d9914a2bb45ade178fab7d68",
            "b9ce500058c64534ab9f8e6471b0a82e",
            "1422d56eadbf451eb7eb1ad590f71121",
            "288db2feb9664fac8c22f6ff2a2ccac5"
          ]
        },
        "id": "l59Rpx75-N3r",
        "outputId": "ba9daec1-7c1b-483a-d6ca-6a4b3c9709ff"
      },
      "execution_count": null,
      "outputs": [
        {
          "output_type": "stream",
          "name": "stdout",
          "text": [
            "Collecting transformers\n",
            "  Downloading transformers-4.34.1-py3-none-any.whl (7.7 MB)\n",
            "\u001b[2K     \u001b[90m━━━━━━━━━━━━━━━━━━━━━━━━━━━━━━━━━━━━━━━━\u001b[0m \u001b[32m7.7/7.7 MB\u001b[0m \u001b[31m14.6 MB/s\u001b[0m eta \u001b[36m0:00:00\u001b[0m\n",
            "\u001b[?25hRequirement already satisfied: filelock in /usr/local/lib/python3.10/dist-packages (from transformers) (3.12.4)\n",
            "Collecting huggingface-hub<1.0,>=0.16.4 (from transformers)\n",
            "  Downloading huggingface_hub-0.18.0-py3-none-any.whl (301 kB)\n",
            "\u001b[2K     \u001b[90m━━━━━━━━━━━━━━━━━━━━━━━━━━━━━━━━━━━━━━━━\u001b[0m \u001b[32m302.0/302.0 kB\u001b[0m \u001b[31m14.9 MB/s\u001b[0m eta \u001b[36m0:00:00\u001b[0m\n",
            "\u001b[?25hRequirement already satisfied: numpy>=1.17 in /usr/local/lib/python3.10/dist-packages (from transformers) (1.23.5)\n",
            "Requirement already satisfied: packaging>=20.0 in /usr/local/lib/python3.10/dist-packages (from transformers) (23.2)\n",
            "Requirement already satisfied: pyyaml>=5.1 in /usr/local/lib/python3.10/dist-packages (from transformers) (6.0.1)\n",
            "Requirement already satisfied: regex!=2019.12.17 in /usr/local/lib/python3.10/dist-packages (from transformers) (2023.6.3)\n",
            "Requirement already satisfied: requests in /usr/local/lib/python3.10/dist-packages (from transformers) (2.31.0)\n",
            "Collecting tokenizers<0.15,>=0.14 (from transformers)\n",
            "  Downloading tokenizers-0.14.1-cp310-cp310-manylinux_2_17_x86_64.manylinux2014_x86_64.whl (3.8 MB)\n",
            "\u001b[2K     \u001b[90m━━━━━━━━━━━━━━━━━━━━━━━━━━━━━━━━━━━━━━━━\u001b[0m \u001b[32m3.8/3.8 MB\u001b[0m \u001b[31m34.6 MB/s\u001b[0m eta \u001b[36m0:00:00\u001b[0m\n",
            "\u001b[?25hCollecting safetensors>=0.3.1 (from transformers)\n",
            "  Downloading safetensors-0.4.0-cp310-cp310-manylinux_2_17_x86_64.manylinux2014_x86_64.whl (1.3 MB)\n",
            "\u001b[2K     \u001b[90m━━━━━━━━━━━━━━━━━━━━━━━━━━━━━━━━━━━━━━━━\u001b[0m \u001b[32m1.3/1.3 MB\u001b[0m \u001b[31m30.4 MB/s\u001b[0m eta \u001b[36m0:00:00\u001b[0m\n",
            "\u001b[?25hRequirement already satisfied: tqdm>=4.27 in /usr/local/lib/python3.10/dist-packages (from transformers) (4.66.1)\n",
            "Requirement already satisfied: fsspec>=2023.5.0 in /usr/local/lib/python3.10/dist-packages (from huggingface-hub<1.0,>=0.16.4->transformers) (2023.6.0)\n",
            "Requirement already satisfied: typing-extensions>=3.7.4.3 in /usr/local/lib/python3.10/dist-packages (from huggingface-hub<1.0,>=0.16.4->transformers) (4.5.0)\n",
            "Collecting huggingface-hub<1.0,>=0.16.4 (from transformers)\n",
            "  Downloading huggingface_hub-0.17.3-py3-none-any.whl (295 kB)\n",
            "\u001b[2K     \u001b[90m━━━━━━━━━━━━━━━━━━━━━━━━━━━━━━━━━━━━━━━━\u001b[0m \u001b[32m295.0/295.0 kB\u001b[0m \u001b[31m33.8 MB/s\u001b[0m eta \u001b[36m0:00:00\u001b[0m\n",
            "\u001b[?25hRequirement already satisfied: charset-normalizer<4,>=2 in /usr/local/lib/python3.10/dist-packages (from requests->transformers) (3.3.0)\n",
            "Requirement already satisfied: idna<4,>=2.5 in /usr/local/lib/python3.10/dist-packages (from requests->transformers) (3.4)\n",
            "Requirement already satisfied: urllib3<3,>=1.21.1 in /usr/local/lib/python3.10/dist-packages (from requests->transformers) (2.0.6)\n",
            "Requirement already satisfied: certifi>=2017.4.17 in /usr/local/lib/python3.10/dist-packages (from requests->transformers) (2023.7.22)\n",
            "Installing collected packages: safetensors, huggingface-hub, tokenizers, transformers\n",
            "Successfully installed huggingface-hub-0.17.3 safetensors-0.4.0 tokenizers-0.14.1 transformers-4.34.1\n"
          ]
        },
        {
          "output_type": "display_data",
          "data": {
            "text/plain": [
              "Downloading (…)/main/tokenizer.json:   0%|          | 0.00/682k [00:00<?, ?B/s]"
            ],
            "application/vnd.jupyter.widget-view+json": {
              "version_major": 2,
              "version_minor": 0,
              "model_id": "a048b6f814454b66ac1db3e9dfec082c"
            }
          },
          "metadata": {}
        },
        {
          "output_type": "display_data",
          "data": {
            "text/plain": [
              "Downloading (…)in/added_tokens.json:   0%|          | 0.00/4.00 [00:00<?, ?B/s]"
            ],
            "application/vnd.jupyter.widget-view+json": {
              "version_major": 2,
              "version_minor": 0,
              "model_id": "8edff48a76df417b8685c39f59feb69a"
            }
          },
          "metadata": {}
        },
        {
          "output_type": "display_data",
          "data": {
            "text/plain": [
              "Downloading (…)cial_tokens_map.json:   0%|          | 0.00/111 [00:00<?, ?B/s]"
            ],
            "application/vnd.jupyter.widget-view+json": {
              "version_major": 2,
              "version_minor": 0,
              "model_id": "a2fe51e0d8e343f9b1f24ea4e1eba084"
            }
          },
          "metadata": {}
        },
        {
          "output_type": "display_data",
          "data": {
            "text/plain": [
              "Downloading (…)lve/main/config.json:   0%|          | 0.00/1.18k [00:00<?, ?B/s]"
            ],
            "application/vnd.jupyter.widget-view+json": {
              "version_major": 2,
              "version_minor": 0,
              "model_id": "15c3b9c0c0e749f0b73dd25a78abafdc"
            }
          },
          "metadata": {}
        },
        {
          "output_type": "stream",
          "name": "stderr",
          "text": [
            "You passed along `num_labels=3` with an incompatible id to label map: {'0': 'NEGATIVE', '1': 'POSITIVE'}. The number of labels wil be overwritten to 2.\n",
            "The tokenizer class you load from this checkpoint is not the same type as the class this function is called from. It may result in unexpected tokenization. \n",
            "The tokenizer class you load from this checkpoint is 'BartTokenizer'. \n",
            "The class this function is called from is 'PreTrainedTokenizerFast'.\n",
            "You passed along `num_labels=3` with an incompatible id to label map: {'0': 'NEGATIVE', '1': 'POSITIVE'}. The number of labels wil be overwritten to 2.\n"
          ]
        },
        {
          "output_type": "display_data",
          "data": {
            "text/plain": [
              "Downloading model.safetensors:   0%|          | 0.00/496M [00:00<?, ?B/s]"
            ],
            "application/vnd.jupyter.widget-view+json": {
              "version_major": 2,
              "version_minor": 0,
              "model_id": "8e376c8b23c549a384b290960e42b140"
            }
          },
          "metadata": {}
        }
      ]
    },
    {
      "cell_type": "code",
      "source": [
        "# BART의 인풋 길이 제한은 1024토큰\n",
        "# 인조 댓글들의 각 댓글의 평균 길이는?\n",
        "np.mean([len(doc) for doc in In_Jo_youtube_lst])"
      ],
      "metadata": {
        "colab": {
          "base_uri": "https://localhost:8080/"
        },
        "id": "tKL9oJLG_Wo2",
        "outputId": "aa031e6e-e58a-4adf-e446-1384ed198b27"
      },
      "execution_count": null,
      "outputs": [
        {
          "output_type": "execute_result",
          "data": {
            "text/plain": [
              "96.20491803278688"
            ]
          },
          "metadata": {},
          "execution_count": 23
        }
      ]
    },
    {
      "cell_type": "code",
      "source": [
        "# 그러면 대략 1024토큰 안에 몇개의 댓글을 넣을 수 있을까?\n",
        "1024 // np.mean([len(doc) for doc in In_Jo_youtube_lst])"
      ],
      "metadata": {
        "colab": {
          "base_uri": "https://localhost:8080/"
        },
        "id": "FrFr7DgbBiQm",
        "outputId": "07e875ed-e458-4faf-804b-6db9f65834e7"
      },
      "execution_count": null,
      "outputs": [
        {
          "output_type": "execute_result",
          "data": {
            "text/plain": [
              "10.0"
            ]
          },
          "metadata": {},
          "execution_count": 25
        }
      ]
    },
    {
      "cell_type": "code",
      "source": [
        "# 인조에 대한 총 댓글 갯수 :\n",
        "len(In_Jo_youtube_lst)"
      ],
      "metadata": {
        "colab": {
          "base_uri": "https://localhost:8080/"
        },
        "id": "nRdbumI6Ec5l",
        "outputId": "131a4c46-d143-410e-e41f-d34b028730c1"
      },
      "execution_count": null,
      "outputs": [
        {
          "output_type": "execute_result",
          "data": {
            "text/plain": [
              "244"
            ]
          },
          "metadata": {},
          "execution_count": 33
        }
      ]
    },
    {
      "cell_type": "code",
      "source": [
        "# 댓글 10개당 요약 아웃풋 길이\n",
        "4098//(len(In_Jo_youtube_lst)//10+1)"
      ],
      "metadata": {
        "colab": {
          "base_uri": "https://localhost:8080/"
        },
        "id": "UpZOIJo_AjEL",
        "outputId": "b674232a-1b04-4222-a601-7328a96de6e0"
      },
      "execution_count": null,
      "outputs": [
        {
          "output_type": "execute_result",
          "data": {
            "text/plain": [
              "163"
            ]
          },
          "metadata": {},
          "execution_count": 42
        }
      ]
    },
    {
      "cell_type": "code",
      "source": [
        "# 나중에 Chatgpt에 명령어 넣을 것도 포함해서 - 넉넉잡아 70으로 max_length 잡자."
      ],
      "metadata": {
        "id": "Mx9o8g1jKrt0"
      },
      "execution_count": null,
      "outputs": []
    },
    {
      "cell_type": "code",
      "source": [
        "import torch\n",
        "\n",
        "intv = 10\n",
        "summary_texts = ''\n",
        "for k in range(round(244/intv)+1):\n",
        "    print('from ',0+k*intv,' to ',(k+1)*intv)\n",
        "    input_ids = tokenizer.encode(' '.join(In_Jo_youtube_lst[(0+k*10):((k+1)*10)]))\n",
        "    input_ids = [tokenizer.bos_token_id] + input_ids + [tokenizer.eos_token_id]\n",
        "    input_ids = torch.tensor([input_ids])\n",
        "    # 혹시라도 SBART에 못넣는 인풋이 있을 경우, 생략.\n",
        "    try:\n",
        "        summary_ids = model.generate(input_ids,  num_beams=4,  max_length=70,  eos_token_id=1)\n",
        "    except:\n",
        "        print('exception occured at ', 0+k*intv,' to ',(k+1)*intv)\n",
        "        continue\n",
        "    summary_texts += tokenizer.decode(summary_ids.squeeze().tolist(), skip_special_tokens=True) + ' '\n",
        "\n",
        "print(len(summary_texts))\n",
        "summary_texts"
      ],
      "metadata": {
        "colab": {
          "base_uri": "https://localhost:8080/",
          "height": 654
        },
        "id": "cugkhlWO_wTi",
        "outputId": "77934a1f-0eee-421d-89b3-44d5dc65f9ca"
      },
      "execution_count": null,
      "outputs": [
        {
          "output_type": "stream",
          "name": "stdout",
          "text": [
            "from  0  to  10\n",
            "from  10  to  20\n",
            "from  20  to  30\n",
            "from  30  to  40\n",
            "from  40  to  50\n",
            "from  50  to  60\n",
            "from  60  to  70\n",
            "from  70  to  80\n",
            "from  80  to  90\n",
            "from  90  to  100\n",
            "from  100  to  110\n",
            "from  110  to  120\n",
            "from  120  to  130\n",
            "from  130  to  140\n",
            "from  140  to  150\n",
            "from  150  to  160\n",
            "from  160  to  170\n",
            "from  170  to  180\n",
            "from  180  to  190\n",
            "from  190  to  200\n",
            "from  200  to  210\n",
            "from  210  to  220\n",
            "from  220  to  230\n",
            "from  230  to  240\n",
            "from  240  to  250\n",
            "2902\n"
          ]
        },
        {
          "output_type": "execute_result",
          "data": {
            "text/plain": [
              "'인조는 무능하고 우유부단한 인조는 반정으로 광해군을 몰아내고 집권하는 과감성은 어디서 나왔을꼬실로 통탄할 일이로다  명쾌한   해설 감사합니다  호란 가장 큰 책임은 인조   그리고 김상헌을 비롯한 현실을 외면한 자들유생들은 최명길에 인조반정으로 정권 잡았지만  조선역사상 가장 무능하고 사악하고 비겁한 군주였다 그 밑의 부하들 그 나물에 그 밥 조선역사 민중들 후퇴시킨 가장 무능한 군주 쪼다 조선 최악의 임금 선조의 피를 그대로 이어 받은 찌질한 인조 후금 기병의 위 아조반정으로 왕 되었지만 무능하고 외교적 사리도 못갖춘 정말 무능한 욍 청나라 홍타이지 정말 명석하고 관대하고 사려깊은 지도자다 내가 그 였다면 반드시 척화파 간신들을 모조리 참살하고 인조의 목을베어 광화문에 걸고 조선의 광해군을 폐위시킨  인조반정 은 당초부터 잘못된 것이였다  인조가 즉위한지 년만에 정묘호란년 나라가 쑥대밭이 되었고 병자호란 년만에 또한번 나라를 곤경에 빠뜨린 병자호란년 을 당하게 된 인조는 선조와 더불어 우리 광해군을 몰아내고 나라와 백성에게 크나큰 시련을 안겨준 조선 최대의 폭군인 인조는 개인의 복수심으로 광해군을 몰아내고 나라와 백성에게 크나큰 시련을 안겨준 조선 최대의 폭군이었다고 봅니다 윤석렬의 미일올인 사대정책을 보면 꼭 그때의 인조를 보는것 같습니다  사대주의에빠진 언론과 국짐 친일파 놈들이  그때 광해를 공격했던 사림놈들과 똑같고 어리버리 왕권을 줏었던 윤석렬이 얼마나 똑같은지ᄏᄏ 개국공신중 하나였던 왕다운 인격 능력도 없는 찌질이가 왕이랍시고 백성을 힘들게 하며 권위만 내세우고 나라를 망가뜨렸던 인조 선조 그리고 미친폭군 연산군 개 쓰레기 인조 개새광해군 몰아내더니 그때 싹 쓸어버렸어야 했는데 인조는  임금자격없고  군으로 강등 인조에 으뜸또라이 선조ᄋ 인조가 얼마나 ᄇᄉ같고 위협이 안된다고 생각했으면 목숨을 살려줬을까 조선은 망국의 원흉이었다 조서니 임금중 가장 우왕인 인조 그 휘하 사대부들 개드립에 수십만 백성들이 북방으로 노예로 끌려갔었는데도 인조와 개드립들은 조선의 왕과 사대부로 잘먹고 잘 살았다분노와 슬픔을 어찌 할수가 없구나 인조외 인조반정 주 임란에서 새로운 전쟁을 배워 화력과 기동력을 합쳐 군사 혁신에 성공한 청군은 화력과 기동력으로 조선군을 간단하게 압살함에도 조선선비들은 아직도 고려 몽고시절에 살고 있었음이미 세상은 개벽하고 있었음이미 세상은 개벽하고 있었음이미 세상은 개벽하고 있었 광해군이 인조같은 자보다 백 배 천 배 낫습니다 인조는 인조를 부관참시해야해 인조는 아들 애매하게 죽이고 영조는 아들 확실히 죽이고 난 인조가 우리나라 역사중 으뜸가는 십새기라고 생각함 업적도 없는 병신새기삼전도의 굴욕은 수모가 아니라 천벌입니다 조선왕조 년중 가장 무능한 임금은 인조 오죽하면 인조가 대신들 에게 이레도 당쟁을 하겠느냐고 호통을 쳤겠습니까? 병자호란이 일어난 이유는 후금누루하치가죽고 홍타이즈 즉위식에서 조선사신으로 초청되어간사신이 즉위식에서 깽판치고 사신이 조선으로 돌아갈때 홍타이즈칙서를 후금대신들이 보는앞에서 팽개치고 했으니 전쟁이 일어날것은 기정사실 그러나 인조반정까지해서 나라 말아먹고 중국이 지금도 조선은 지들 속국이라고 큰소리 치게 만들었음 심지어 이씨들이 중국인이레ᄏ 인조는 전형적인 아가리파이터에쪼다였음 표트르대제가 자식이어도 왕재가 아니랴먼 왕이 되서는 안된다고 했는데딱 그런 인물이 반 인조를 문재인대통령 반만 닮았어도 한미정상회담을 성공으로 이끌었는데 누구는 국민을 탱크로 밀어버릴 생각만 하고 이래서 지도자가 중요한겁니다 인조를 그때 홍타이지가 처죽엿어야 남한산성들어간 인조와 그 쫄따구들을 보면 종북좌파 극좌들 보는 광해군 때에 역모에 휘말려 죽은 맹장 한명련은 광해군 때에 역모에 휘말려 죽은 맹장이고 광교산 전투의 승리도 중요하지만 조선이 병자호란에서 승리할 수 있었던 필드메뉴얼에 더 가까웠던 전투라고 생각합니다 임진왜 이순신을 기용한 업적이라기 보다는 충무공을 대신할 인물이 없으니 기용하게 된거지 그걸 업적이라기 보다는 충무공을 대신할 인물이 없으니 기용하게 된거지 그걸 업적이라기 보다는 충무공을 대신할 인물이 없으니 기용하게 된거지 그걸 업적이라기 보다는 인조나 선조같은 개새리 지도자가 다시는 나오지 않기를 바란다 인조 괘씸한 놈 인조야인조야그래도 삼학사 윤집오달제등은 끝까지 존심이라도 지켰지인조야이 개 쓰레기 왕 인조야너는 어찌 끝까지 살아서 소현세자 한명기 교수의 말처럼 보수반동 쿠테타를 일으켜 정권을 잡은 인조무리들이  국가안보보다 정권안보를 우선시했고 이괄의 난 등 을 통해 백성들은 물론 군사들 마저도 더이상 당시 이씨 왕조의 존위는 자신들의 삶과는 하등의 관련이 없다고 생각하지 않았을까 생각됩니다 광해군은 조선은 망해도 명나라를 섬겨야한다 같은 소리하는걸 듣고있다보니 나라가 망조가 든지 오래되었다는 생각이 들어서 유교든 불교든 기독교든 어떤사상이나 종교에 빠져서 다른생각은 들으려고 하지도 않고 국제정세가 어떻게 돌아가는지 보려고도 하지않는 광신 문재인 대통령님은 문재인 대통령님이고 깨시민들은 문재인 대통령님이고 문재인 대통령님이고 깨시민들입니다  조선이 망해자빠져야 하는건데 조선이 망해자빠져야 하는건데 조선이 망해자빠져야 하는건데 조선이 망해자빠져야 하는건데 조선이 망해 조선왕 중에 가장 멍청한 인조 ᅲᅮ 인조 할배 선조라는놈이 더 멍청한 선조 그리고 인조이 ᄉᄇᄅ 놈들ᅲ 이때 그냥 인조가 목이 날아갔었어야 했음 소현세자가 왕이 되었어야했는데 뇌피셜이긴 한데 입장바꿔 생각해 광해군은 후금과 국서를 교환하며 죄수 딜레마 게임의 내쉬균형에서 화친이라는 절충을 선택하고 후금측에서도 통수치지않는 절충을 택합니다   조선  후금청의 관계가 적대적일 때  홍타이지의 선택  조선  후금청의 관계가 중립 광해군도 국외정세는 잘 봤다 쳐도 나라안 재정 무리하게 다 탕진한 새끼입니다   반정의명분이죠 광해군도 국외정세는 잘 봤다 쳐도 나라안 재정 무리하게 다 탕진한 새끼입니다 '"
            ],
            "application/vnd.google.colaboratory.intrinsic+json": {
              "type": "string"
            }
          },
          "metadata": {},
          "execution_count": 35
        }
      ]
    },
    {
      "cell_type": "code",
      "source": [
        "# 위의 BART요약을 Chatgpt으로 refine한 이후 :\n",
        "In_Jo_youtube_chatgpt = ['인조에 대한 댓글들은 크게 두 가지 주제로 나뉘어집니다. 첫 번째 주제는 인조의 통치 무능과 관련한 내용입니다. 그는 무능한 군주로 평가되며, 광해군을 몰아내고 집권한 반정의 결정은 큰 실수였다고 비판되고 있습니다. 이에 따라 국가와 백성에 큰 시련을 안겼다는 의견도 나타납니다. 이러한 평가로 인해 인조의 결정력 부족과 통치 능력에 대한 의문이 촉발되었습니다. 두 번째 주제는 광해군과의 비교와 관련한 내용입니다. 광해군과 인조의 정치적 비교가 다양하게 나타나며, 광해군의 선택이 후금과의 화친을 택한 반면, 인조의 결정은 국가 위기를 초래했다는 평가도 있습니다. 또한 광해군과 인조의 정치 비교를 통해 현대의 리더십과 중요성에 대한 의견도 언급되고 있습니다. 이외에도 윤석열과 문재인에 대한 비판, 종교적 극단주의, 조선 역사의 다양한 측면에 관한 논의가 포함되어 있습니다. 이들 주제들이 조선의 역사와 인조의 통치에 대한 다양한 시각과 의견을 반영하고 있습니다.']"
      ],
      "metadata": {
        "id": "3g_c3KyLHek2"
      },
      "execution_count": null,
      "outputs": []
    },
    {
      "cell_type": "code",
      "source": [
        "np.save('Choi_Myeong_youtube_chatgpt', np.array(Choi_Myeong_youtube_chatgpt))\n",
        "np.save('Kim_Sang_youtube_chatgpt', np.array(Kim_Sang_youtube_chatgpt))\n",
        "np.save('In_Jo_youtube_chatgpt', np.array(In_Jo_youtube_chatgpt))"
      ],
      "metadata": {
        "id": "smZy17tNLVoB"
      },
      "execution_count": null,
      "outputs": []
    }
  ]
}