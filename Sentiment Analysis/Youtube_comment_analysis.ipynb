{
  "nbformat": 4,
  "nbformat_minor": 0,
  "metadata": {
    "colab": {
      "provenance": [],
      "authorship_tag": "ABX9TyOEZif6YCVQ+6+aAbllzd9h",
      "include_colab_link": true
    },
    "kernelspec": {
      "name": "python3",
      "display_name": "Python 3"
    },
    "language_info": {
      "name": "python"
    }
  },
  "cells": [
    {
      "cell_type": "markdown",
      "metadata": {
        "id": "view-in-github",
        "colab_type": "text"
      },
      "source": [
        "<a href=\"https://colab.research.google.com/github/jinwu99/Text-mining-and-Sentiment-analysis/blob/main/Sentiment%20Analysis/Youtube_comment_analysis.ipynb\" target=\"_parent\"><img src=\"https://colab.research.google.com/assets/colab-badge.svg\" alt=\"Open In Colab\"/></a>"
      ]
    },
    {
      "cell_type": "code",
      "execution_count": 1,
      "metadata": {
        "colab": {
          "base_uri": "https://localhost:8080/"
        },
        "id": "alHp9GT1YhpM",
        "outputId": "f2bfacb1-94eb-4652-814b-886d6552af4f"
      },
      "outputs": [
        {
          "output_type": "stream",
          "name": "stdout",
          "text": [
            "Drive already mounted at ./MyDrive; to attempt to forcibly remount, call drive.mount(\"./MyDrive\", force_remount=True).\n"
          ]
        }
      ],
      "source": [
        "from google.colab import drive\n",
        "drive.mount('./MyDrive')"
      ]
    },
    {
      "cell_type": "code",
      "source": [
        "cd MyDrive/My Drive/Colab Notebooks"
      ],
      "metadata": {
        "colab": {
          "base_uri": "https://localhost:8080/"
        },
        "id": "pakyNc-HfoaE",
        "outputId": "cf8351e4-eca6-4ae4-ef7f-0d5cd731363f"
      },
      "execution_count": 2,
      "outputs": [
        {
          "output_type": "stream",
          "name": "stdout",
          "text": [
            "/content/MyDrive/My Drive/Colab Notebooks\n"
          ]
        }
      ]
    },
    {
      "cell_type": "code",
      "source": [
        "import pandas as pd\n",
        "\n",
        "youtube = pd.read_csv('Youtube_review.csv').dropna(axis=0)\n",
        "train_list = youtube['review'].tolist()\n",
        "train_list[:5]"
      ],
      "metadata": {
        "colab": {
          "base_uri": "https://localhost:8080/"
        },
        "id": "lBTuKI_xf4o9",
        "outputId": "5695a669-f68d-47f3-a227-62a56b182744"
      },
      "execution_count": 3,
      "outputs": [
        {
          "output_type": "execute_result",
          "data": {
            "text/plain": [
              "['첨부터 끝까지 잘봤습니다.<br>차분하게 소개해 주시고 역사자료를 통하여 인물들의 성향을 이해하기 쉽게 해석해 주셔서 참 좋았어요',\n",
              " '지도자 답지  않은 놈들은 바로바로 처단해야 된다.\\n항상\\n개돼지들만 피해',\n",
              " '우리 역사는 항상 병자호란처럼 사후약방문이 됩니다. 시청\\n하는 내내 모멸감,굴욕감 때문에 수치스러워서 감당하기이를데  없었습니다. 탁상공론과\\n정당화하려는 김상헌과 김류등 안봐도 액션스텐스 취하는데 혀가 내둘립니다. 평소 김상헌을 깊이 존경하였는데 이제부터 최명길의 실리외교를\\n신봉하게 되었습니다.오월동주,와신상담사자성어가 떠오릅니다.영상 고맙게 잘 시청했습니다.',\n",
              " '현실적 vs  비현실적\\n친미 vs 미군철수\\n역사는  반복된다',\n",
              " '조선은 이때 망하고 새 왕조가 들어 섰어야한다']"
            ]
          },
          "metadata": {},
          "execution_count": 3
        }
      ]
    },
    {
      "cell_type": "markdown",
      "source": [
        "#가설검증#\n",
        "1. 병자호란이 대중에게 정말 부정적으로 인식되는가. \\\n",
        "    * 영화처럼 주관적 매체가 아닌, 역사강의처럼 객관적 매체를 통한 검증\n",
        "\n",
        "2. 유튜브 역사강의 댓글 특징 : \\\n",
        "    * 채널주인 평가, 역사 평가, 현재를 돌아보는 등 다양한 문맥을 가짐.\n",
        "    * 따라서 클러스터링으로 문맥을 나누고 역사 관련 문맥만 추출.\n",
        "\n",
        "3. 문맥에 따라 클러스터링하기 위해 - 문장을 비슷한 문맥끼리 가까운 거리로 임베딩해주는 SBERT 활용."
      ],
      "metadata": {
        "id": "xz0aBSNphanW"
      }
    },
    {
      "cell_type": "code",
      "source": [
        "!pip install sentence_transformers"
      ],
      "metadata": {
        "id": "Ysw8IrlEhVj1"
      },
      "execution_count": null,
      "outputs": []
    },
    {
      "cell_type": "code",
      "source": [
        "from sentence_transformers import SentenceTransformer\n",
        "import torch\n",
        "\n",
        "model = SentenceTransformer(\"jhgan/ko-sroberta-multitask\")\n",
        "model.to('cuda') # 빠른 임베딩 시키자.\n",
        "\n",
        "with torch.no_grad():\n",
        "    document_embeddings = model.encode(train_list, convert_to_tensor=True)\n",
        "document_embeddings = document_embeddings.to('cpu').numpy()\n",
        "print(document_embeddings.shape)"
      ],
      "metadata": {
        "id": "fNwuQ5S5hVrE"
      },
      "execution_count": null,
      "outputs": []
    },
    {
      "cell_type": "code",
      "source": [],
      "metadata": {
        "id": "QHarfex5hVw8"
      },
      "execution_count": null,
      "outputs": []
    }
  ]
}